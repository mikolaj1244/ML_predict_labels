{
 "cells": [
  {
   "cell_type": "code",
   "metadata": {
    "tags": [],
    "cell_id": "00000-1e19355f-d276-4bb9-9720-b2d579a661a1",
    "deepnote_to_be_reexecuted": false,
    "source_hash": "29ad41cf",
    "execution_start": 1625113911873,
    "execution_millis": 9667,
    "deepnote_cell_type": "code"
   },
   "source": "%pip install --upgrade --quiet neptune-client",
   "outputs": [
    {
     "name": "stdout",
     "text": "\u001b[33mWARNING: Running pip as root will break packages and permissions. You should install packages reliably by using venv: https://pip.pypa.io/warnings/venv\u001b[0m\n\u001b[33mWARNING: You are using pip version 21.1.2; however, version 21.1.3 is available.\nYou should consider upgrading via the '/usr/local/bin/python -m pip install --upgrade pip' command.\u001b[0m\nNote: you may need to restart the kernel to use updated packages.\n",
     "output_type": "stream"
    }
   ],
   "execution_count": null
  },
  {
   "cell_type": "code",
   "metadata": {
    "tags": [],
    "cell_id": "00000-8faacd74-a721-45c1-96ca-24b1ecf96909",
    "deepnote_to_be_reexecuted": false,
    "source_hash": "2743aa65",
    "execution_start": 1625120015539,
    "execution_millis": 2,
    "deepnote_cell_type": "code"
   },
   "source": "import numpy as np\nimport pandas as pd\nimport matplotlib.pyplot as plt\nimport joblib\nimport neptune.new as neptune\nfrom sklearn.pipeline import Pipeline\nfrom sklearn.model_selection import train_test_split, RandomizedSearchCV\nfrom sklearn.ensemble import RandomForestClassifier\nfrom sklearn.linear_model import LogisticRegression\nfrom sklearn.metrics import confusion_matrix, f1_score\nfrom sklearn.preprocessing import MinMaxScaler\nfrom sklearn.svm import SVC\nfrom sklearn.decomposition import PCA",
   "outputs": [],
   "execution_count": 62
  },
  {
   "cell_type": "code",
   "metadata": {
    "tags": [],
    "cell_id": "00003-37f1196e-4a65-4180-aa7e-835d49cf7ed4",
    "deepnote_to_be_reexecuted": false,
    "source_hash": "b0519216",
    "execution_start": 1625116792257,
    "execution_millis": 30144,
    "deepnote_cell_type": "code"
   },
   "source": "#Load datasets\ndef load_data() -> list:\n    X_train_ = pd.read_csv('train_data.csv', header=None)\n    y_labels = pd.read_csv('train_labels.csv', header=None)\n    X_test_ = pd.read_csv('test_data.csv', header=None)\n    return[X_train_, y_labels, X_test_]\nX, y, X_test_data = load_data()",
   "outputs": [],
   "execution_count": 14
  },
  {
   "cell_type": "code",
   "metadata": {
    "tags": [],
    "cell_id": "00004-8116b47a-8adb-4fa8-9df5-8a59a1c4b727",
    "deepnote_to_be_reexecuted": false,
    "source_hash": "16b05161",
    "execution_start": 1625116835116,
    "execution_millis": 88,
    "deepnote_cell_type": "code"
   },
   "source": "#Split training data\nX_train, X_test, y_train, y_test = train_test_split(X, y, test_size=0.33, random_state=42)",
   "outputs": [],
   "execution_count": 15
  },
  {
   "cell_type": "code",
   "metadata": {
    "tags": [],
    "cell_id": "00004-fcaba56e-42c9-4da3-989c-2bd9b7d102d2",
    "deepnote_to_be_reexecuted": false,
    "source_hash": "48f6a453",
    "execution_start": 1625116837274,
    "execution_millis": 2537,
    "deepnote_cell_type": "code"
   },
   "source": "#Run neptune.ai\nrun = neptune.init(project='ml_cdv/predict-labels',\n                   api_token='eyJhcGlfYWRkcmVzcyI6Imh0dHBzOi8vYXBwLm5lcHR1bmUuYWkiLCJhcGlfdXJsIjoiaHR0cHM6Ly9hcHAubmVwdHVuZS5haSIsImFwaV9rZXkiOiIxYWJkNjhjMS04MzYyLTQ2ZDktOGYwZS03NDFhOWM0MjUzYjIifQ==') # your credentials\nrun",
   "outputs": [
    {
     "name": "stdout",
     "text": "Your trial will end in 1 day. If you want to continue tracking your team experiments in Neptune, upgrade your plan (https://app.neptune.ai/o/ml_cdv/-/subscription)\npsutil is not installed. Hardware metrics will not be collected.\nhttps://app.neptune.ai/ml_cdv/predict-labels/e/PRED-4\nRemember to stop your run once you’ve finished logging your metadata (https://docs.neptune.ai/api-reference/run#stop). It will be stopped automatically only when the notebook kernel/interactive console is terminated.\n",
     "output_type": "stream"
    },
    {
     "output_type": "execute_result",
     "execution_count": 16,
     "data": {
      "text/plain": "<neptune.new.run.Run at 0x7f50c2223c90>"
     },
     "metadata": {}
    }
   ],
   "execution_count": 16
  },
  {
   "cell_type": "code",
   "metadata": {
    "tags": [],
    "cell_id": "00005-a6288cb1-5a4d-4146-b6e3-a742332f8593",
    "deepnote_to_be_reexecuted": false,
    "source_hash": "abd2fb97",
    "execution_start": 1625116843734,
    "execution_millis": 4,
    "deepnote_cell_type": "code"
   },
   "source": "#Function with model, score and confusion matrix\ndef model(x_1, x_2, y_1, y_2, save: bool = False):\n\n    pipe = Pipeline([('pca', PCA(n_components = 0.95)), ('scaler', MinMaxScaler()),('classifier', SVC())])\n\n    params = [\n        {'scaler': [MinMaxScaler()],\n        'pca': [PCA(n_components = 0.95)]},\n        {\"classifier\": [LogisticRegression(random_state=42)],\n        \"classifier__penalty\": [\"l2\"],\n        \"classifier__C\": np.logspace(0.001, 0.1, 10),\n        'classifier__class_weight': ['balanced'],\n        \"classifier__solver\": [\"liblinear\"]\n        },\n\n        {'classifier': [SVC(random_state=42)],\n        'classifier__kernel': ['linear', 'poly'],\n        'classifier__class_weight': ['balanced'],\n        'classifier__C': np.logspace(1,2,5)},\n        \n        {\"classifier\": [RandomForestClassifier(random_state=42)],\n        \"classifier__n_estimators\": [100, 120, 300, 500, 800, 1200],\n        \"classifier__max_features\": ['log2', 'sqrt', 'auto', None],\n        \"classifier__max_depth\": [5, 8, 15, 25, 30, None],\n        \"classifier__min_samples_split\": [1,2,5,10,15,100],\n        \"classifier__min_samples_leaf\": [1,2,5,10]\n        }]\n\n    randsearch = RandomizedSearchCV(pipe,\n                              params,\n                              cv=2,\n                              verbose=1,\n                              n_jobs=-1,\n                              scoring='f1_micro')\n    \n    best_model = randsearch.fit(x_2, y_2.values.ravel())\n    y_pred = best_model.predict(x_2)\n    print(f\"\\nBest model params: \\n{best_model.best_params_}\")\n    print(f\"\\nModel scorer: \\n{best_model.scorer_}\")\n    print(f\"\\nModel score: \\n{best_model.best_score_}\")\n    print(confusion_matrix(y_2, y_pred))\n\n    if save:\n        filename = \"mf_model.pkl\"\n        joblib.dump(best_model, filename)",
   "outputs": [],
   "execution_count": 17
  },
  {
   "cell_type": "code",
   "metadata": {
    "tags": [],
    "cell_id": "00005-88d124b0-4f08-4413-8850-868e74ef1896",
    "deepnote_to_be_reexecuted": false,
    "source_hash": "708c9c15",
    "execution_start": 1625116847242,
    "execution_millis": 307521,
    "deepnote_cell_type": "code"
   },
   "source": "#Run predicting function and save file with model\ny_pred = model(X_train, X_test, y_train, y_test, save=True)",
   "outputs": [
    {
     "name": "stdout",
     "text": "Fitting 2 folds for each of 10 candidates, totalling 20 fits\n/shared-libs/python3.7/py/lib/python3.7/site-packages/sklearn/model_selection/_search.py:925: UserWarning: One or more of the test scores are non-finite: [0.9006462         nan 0.9006462  0.92003231 0.91437803 0.9006462\n 0.9006462         nan 0.9006462         nan]\n  category=UserWarning\n\nBest model params: \n{'classifier__n_estimators': 500, 'classifier__min_samples_split': 15, 'classifier__min_samples_leaf': 10, 'classifier__max_features': None, 'classifier__max_depth': 30, 'classifier': RandomForestClassifier(max_depth=30, max_features=None, min_samples_leaf=10,\n                       min_samples_split=15, n_estimators=500, random_state=42)}\n\nModel scorer: \nmake_scorer(f1_score, pos_label=None, average=micro)\n\nModel score: \n0.9200323101777059\n[[ 106   17]\n [  15 1100]]\n",
     "output_type": "stream"
    }
   ],
   "execution_count": 18
  },
  {
   "cell_type": "code",
   "metadata": {
    "tags": [],
    "cell_id": "00007-cc5af55d-c8df-4d72-9eb2-de15ef4d9217",
    "deepnote_to_be_reexecuted": false,
    "source_hash": "8adc727",
    "execution_start": 1625117471609,
    "execution_millis": 257,
    "deepnote_cell_type": "code"
   },
   "source": "#Stop neptune.ai\nrun.stop()",
   "outputs": [
    {
     "name": "stdout",
     "text": "Shutting down background jobs, please wait a moment...\nDone!\nWaiting for the remaining 1 operations to synchronize with Neptune. Do not kill this process.\nAll 1 operations synced, thanks for waiting!\n",
     "output_type": "stream"
    }
   ],
   "execution_count": 19
  },
  {
   "cell_type": "code",
   "metadata": {
    "tags": [],
    "cell_id": "00009-61c5ba0c-4e97-437e-9f03-0fe8db8d33b3",
    "deepnote_to_be_reexecuted": false,
    "source_hash": "a6092747",
    "execution_start": 1625118777851,
    "execution_millis": 1,
    "deepnote_cell_type": "code"
   },
   "source": "#Load file with saved model\ndef load_model(pred):\n    \n    filename = \"mf_model.pkl\"\n    loaded_model = joblib.load(filename)\n\n    labels = loaded_model.predict(pred)\n    \n    return labels",
   "outputs": [],
   "execution_count": 39
  },
  {
   "cell_type": "code",
   "metadata": {
    "tags": [],
    "cell_id": "00010-515c41b8-6507-4bb3-a4fd-70a4ea3efc1c",
    "deepnote_to_be_reexecuted": false,
    "source_hash": "152f9d34",
    "execution_start": 1625118796799,
    "execution_millis": 1608,
    "deepnote_cell_type": "code"
   },
   "source": "#Predict labels with testing data\ntest_labels = load_model(X_test_data)",
   "outputs": [],
   "execution_count": 40
  },
  {
   "cell_type": "code",
   "metadata": {
    "tags": [],
    "cell_id": "00011-592a1724-daaa-4052-ae4c-d3cb2633ce1a",
    "deepnote_to_be_reexecuted": false,
    "source_hash": "ff4c65e2",
    "execution_start": 1625118833668,
    "execution_millis": 11,
    "deepnote_cell_type": "code"
   },
   "source": "#Save dataframe with predicted labels to csv file\ntest_labels_df = pd.DataFrame(test_labels)\ntest_labels_df.to_csv(\"test_labels.csv\")",
   "outputs": [],
   "execution_count": 42
  },
  {
   "cell_type": "code",
   "metadata": {
    "tags": [],
    "cell_id": "00012-f1d47343-e630-485b-9c7e-db680cef70a8",
    "deepnote_to_be_reexecuted": false,
    "source_hash": "32c031fc",
    "execution_start": 1625118839782,
    "execution_millis": 49,
    "deepnote_cell_type": "code"
   },
   "source": "#Read dataframe with predicted labels\ntest_labels_df",
   "outputs": [
    {
     "output_type": "execute_result",
     "execution_count": 43,
     "data": {
      "application/vnd.deepnote.dataframe.v2+json": {
       "row_count": 1250,
       "column_count": 1,
       "columns": [
        {
         "name": 0,
         "dtype": "int64",
         "stats": {
          "unique_count": 2,
          "nan_count": 0,
          "min": "-1",
          "max": "1",
          "histogram": [
           {
            "bin_start": -1,
            "bin_end": -0.8,
            "count": 154
           },
           {
            "bin_start": -0.8,
            "bin_end": -0.6,
            "count": 0
           },
           {
            "bin_start": -0.6,
            "bin_end": -0.3999999999999999,
            "count": 0
           },
           {
            "bin_start": -0.3999999999999999,
            "bin_end": -0.19999999999999996,
            "count": 0
           },
           {
            "bin_start": -0.19999999999999996,
            "bin_end": 0,
            "count": 0
           },
           {
            "bin_start": 0,
            "bin_end": 0.20000000000000018,
            "count": 0
           },
           {
            "bin_start": 0.20000000000000018,
            "bin_end": 0.40000000000000013,
            "count": 0
           },
           {
            "bin_start": 0.40000000000000013,
            "bin_end": 0.6000000000000001,
            "count": 0
           },
           {
            "bin_start": 0.6000000000000001,
            "bin_end": 0.8,
            "count": 0
           },
           {
            "bin_start": 0.8,
            "bin_end": 1,
            "count": 1096
           }
          ]
         }
        },
        {
         "name": "_deepnote_index_column",
         "dtype": "int64"
        }
       ],
       "rows_top": [
        {
         "0": -1,
         "_deepnote_index_column": 0
        },
        {
         "0": 1,
         "_deepnote_index_column": 1
        },
        {
         "0": 1,
         "_deepnote_index_column": 2
        },
        {
         "0": 1,
         "_deepnote_index_column": 3
        },
        {
         "0": -1,
         "_deepnote_index_column": 4
        },
        {
         "0": 1,
         "_deepnote_index_column": 5
        },
        {
         "0": 1,
         "_deepnote_index_column": 6
        },
        {
         "0": 1,
         "_deepnote_index_column": 7
        },
        {
         "0": 1,
         "_deepnote_index_column": 8
        },
        {
         "0": -1,
         "_deepnote_index_column": 9
        },
        {
         "0": 1,
         "_deepnote_index_column": 10
        },
        {
         "0": 1,
         "_deepnote_index_column": 11
        },
        {
         "0": 1,
         "_deepnote_index_column": 12
        },
        {
         "0": 1,
         "_deepnote_index_column": 13
        },
        {
         "0": 1,
         "_deepnote_index_column": 14
        },
        {
         "0": 1,
         "_deepnote_index_column": 15
        },
        {
         "0": 1,
         "_deepnote_index_column": 16
        },
        {
         "0": 1,
         "_deepnote_index_column": 17
        },
        {
         "0": 1,
         "_deepnote_index_column": 18
        },
        {
         "0": 1,
         "_deepnote_index_column": 19
        },
        {
         "0": 1,
         "_deepnote_index_column": 20
        },
        {
         "0": 1,
         "_deepnote_index_column": 21
        },
        {
         "0": 1,
         "_deepnote_index_column": 22
        },
        {
         "0": 1,
         "_deepnote_index_column": 23
        },
        {
         "0": 1,
         "_deepnote_index_column": 24
        },
        {
         "0": 1,
         "_deepnote_index_column": 25
        },
        {
         "0": 1,
         "_deepnote_index_column": 26
        },
        {
         "0": 1,
         "_deepnote_index_column": 27
        },
        {
         "0": 1,
         "_deepnote_index_column": 28
        },
        {
         "0": 1,
         "_deepnote_index_column": 29
        },
        {
         "0": 1,
         "_deepnote_index_column": 30
        },
        {
         "0": 1,
         "_deepnote_index_column": 31
        },
        {
         "0": 1,
         "_deepnote_index_column": 32
        },
        {
         "0": 1,
         "_deepnote_index_column": 33
        },
        {
         "0": 1,
         "_deepnote_index_column": 34
        },
        {
         "0": 1,
         "_deepnote_index_column": 35
        },
        {
         "0": 1,
         "_deepnote_index_column": 36
        },
        {
         "0": 1,
         "_deepnote_index_column": 37
        },
        {
         "0": 1,
         "_deepnote_index_column": 38
        },
        {
         "0": 1,
         "_deepnote_index_column": 39
        },
        {
         "0": 1,
         "_deepnote_index_column": 40
        },
        {
         "0": 1,
         "_deepnote_index_column": 41
        },
        {
         "0": 1,
         "_deepnote_index_column": 42
        },
        {
         "0": 1,
         "_deepnote_index_column": 43
        },
        {
         "0": 1,
         "_deepnote_index_column": 44
        },
        {
         "0": 1,
         "_deepnote_index_column": 45
        },
        {
         "0": -1,
         "_deepnote_index_column": 46
        },
        {
         "0": 1,
         "_deepnote_index_column": 47
        },
        {
         "0": 1,
         "_deepnote_index_column": 48
        },
        {
         "0": 1,
         "_deepnote_index_column": 49
        },
        {
         "0": 1,
         "_deepnote_index_column": 50
        },
        {
         "0": -1,
         "_deepnote_index_column": 51
        },
        {
         "0": 1,
         "_deepnote_index_column": 52
        },
        {
         "0": 1,
         "_deepnote_index_column": 53
        },
        {
         "0": 1,
         "_deepnote_index_column": 54
        },
        {
         "0": 1,
         "_deepnote_index_column": 55
        },
        {
         "0": 1,
         "_deepnote_index_column": 56
        },
        {
         "0": 1,
         "_deepnote_index_column": 57
        },
        {
         "0": -1,
         "_deepnote_index_column": 58
        },
        {
         "0": 1,
         "_deepnote_index_column": 59
        },
        {
         "0": 1,
         "_deepnote_index_column": 60
        },
        {
         "0": 1,
         "_deepnote_index_column": 61
        },
        {
         "0": 1,
         "_deepnote_index_column": 62
        },
        {
         "0": 1,
         "_deepnote_index_column": 63
        },
        {
         "0": -1,
         "_deepnote_index_column": 64
        },
        {
         "0": 1,
         "_deepnote_index_column": 65
        },
        {
         "0": 1,
         "_deepnote_index_column": 66
        },
        {
         "0": 1,
         "_deepnote_index_column": 67
        },
        {
         "0": 1,
         "_deepnote_index_column": 68
        },
        {
         "0": 1,
         "_deepnote_index_column": 69
        },
        {
         "0": 1,
         "_deepnote_index_column": 70
        },
        {
         "0": 1,
         "_deepnote_index_column": 71
        },
        {
         "0": -1,
         "_deepnote_index_column": 72
        },
        {
         "0": 1,
         "_deepnote_index_column": 73
        },
        {
         "0": 1,
         "_deepnote_index_column": 74
        },
        {
         "0": 1,
         "_deepnote_index_column": 75
        },
        {
         "0": 1,
         "_deepnote_index_column": 76
        },
        {
         "0": 1,
         "_deepnote_index_column": 77
        },
        {
         "0": 1,
         "_deepnote_index_column": 78
        },
        {
         "0": 1,
         "_deepnote_index_column": 79
        },
        {
         "0": 1,
         "_deepnote_index_column": 80
        },
        {
         "0": 1,
         "_deepnote_index_column": 81
        },
        {
         "0": 1,
         "_deepnote_index_column": 82
        },
        {
         "0": 1,
         "_deepnote_index_column": 83
        },
        {
         "0": 1,
         "_deepnote_index_column": 84
        },
        {
         "0": 1,
         "_deepnote_index_column": 85
        },
        {
         "0": 1,
         "_deepnote_index_column": 86
        },
        {
         "0": 1,
         "_deepnote_index_column": 87
        },
        {
         "0": 1,
         "_deepnote_index_column": 88
        },
        {
         "0": 1,
         "_deepnote_index_column": 89
        },
        {
         "0": 1,
         "_deepnote_index_column": 90
        },
        {
         "0": 1,
         "_deepnote_index_column": 91
        },
        {
         "0": 1,
         "_deepnote_index_column": 92
        },
        {
         "0": 1,
         "_deepnote_index_column": 93
        },
        {
         "0": 1,
         "_deepnote_index_column": 94
        },
        {
         "0": 1,
         "_deepnote_index_column": 95
        },
        {
         "0": 1,
         "_deepnote_index_column": 96
        },
        {
         "0": 1,
         "_deepnote_index_column": 97
        },
        {
         "0": 1,
         "_deepnote_index_column": 98
        },
        {
         "0": 1,
         "_deepnote_index_column": 99
        },
        {
         "0": -1,
         "_deepnote_index_column": 100
        },
        {
         "0": 1,
         "_deepnote_index_column": 101
        },
        {
         "0": 1,
         "_deepnote_index_column": 102
        },
        {
         "0": 1,
         "_deepnote_index_column": 103
        },
        {
         "0": 1,
         "_deepnote_index_column": 104
        },
        {
         "0": 1,
         "_deepnote_index_column": 105
        },
        {
         "0": 1,
         "_deepnote_index_column": 106
        },
        {
         "0": -1,
         "_deepnote_index_column": 107
        },
        {
         "0": 1,
         "_deepnote_index_column": 108
        },
        {
         "0": 1,
         "_deepnote_index_column": 109
        },
        {
         "0": 1,
         "_deepnote_index_column": 110
        },
        {
         "0": 1,
         "_deepnote_index_column": 111
        },
        {
         "0": 1,
         "_deepnote_index_column": 112
        },
        {
         "0": 1,
         "_deepnote_index_column": 113
        },
        {
         "0": 1,
         "_deepnote_index_column": 114
        },
        {
         "0": 1,
         "_deepnote_index_column": 115
        },
        {
         "0": 1,
         "_deepnote_index_column": 116
        },
        {
         "0": 1,
         "_deepnote_index_column": 117
        },
        {
         "0": 1,
         "_deepnote_index_column": 118
        },
        {
         "0": 1,
         "_deepnote_index_column": 119
        },
        {
         "0": 1,
         "_deepnote_index_column": 120
        },
        {
         "0": 1,
         "_deepnote_index_column": 121
        },
        {
         "0": 1,
         "_deepnote_index_column": 122
        },
        {
         "0": 1,
         "_deepnote_index_column": 123
        },
        {
         "0": -1,
         "_deepnote_index_column": 124
        },
        {
         "0": -1,
         "_deepnote_index_column": 125
        },
        {
         "0": -1,
         "_deepnote_index_column": 126
        },
        {
         "0": -1,
         "_deepnote_index_column": 127
        },
        {
         "0": 1,
         "_deepnote_index_column": 128
        },
        {
         "0": 1,
         "_deepnote_index_column": 129
        },
        {
         "0": 1,
         "_deepnote_index_column": 130
        },
        {
         "0": 1,
         "_deepnote_index_column": 131
        },
        {
         "0": 1,
         "_deepnote_index_column": 132
        },
        {
         "0": 1,
         "_deepnote_index_column": 133
        },
        {
         "0": 1,
         "_deepnote_index_column": 134
        },
        {
         "0": 1,
         "_deepnote_index_column": 135
        },
        {
         "0": 1,
         "_deepnote_index_column": 136
        },
        {
         "0": 1,
         "_deepnote_index_column": 137
        },
        {
         "0": 1,
         "_deepnote_index_column": 138
        },
        {
         "0": 1,
         "_deepnote_index_column": 139
        },
        {
         "0": 1,
         "_deepnote_index_column": 140
        },
        {
         "0": 1,
         "_deepnote_index_column": 141
        },
        {
         "0": -1,
         "_deepnote_index_column": 142
        },
        {
         "0": -1,
         "_deepnote_index_column": 143
        },
        {
         "0": 1,
         "_deepnote_index_column": 144
        },
        {
         "0": 1,
         "_deepnote_index_column": 145
        },
        {
         "0": 1,
         "_deepnote_index_column": 146
        },
        {
         "0": 1,
         "_deepnote_index_column": 147
        },
        {
         "0": 1,
         "_deepnote_index_column": 148
        },
        {
         "0": 1,
         "_deepnote_index_column": 149
        },
        {
         "0": 1,
         "_deepnote_index_column": 150
        },
        {
         "0": 1,
         "_deepnote_index_column": 151
        },
        {
         "0": 1,
         "_deepnote_index_column": 152
        },
        {
         "0": 1,
         "_deepnote_index_column": 153
        },
        {
         "0": 1,
         "_deepnote_index_column": 154
        },
        {
         "0": 1,
         "_deepnote_index_column": 155
        },
        {
         "0": 1,
         "_deepnote_index_column": 156
        },
        {
         "0": 1,
         "_deepnote_index_column": 157
        },
        {
         "0": -1,
         "_deepnote_index_column": 158
        },
        {
         "0": 1,
         "_deepnote_index_column": 159
        },
        {
         "0": 1,
         "_deepnote_index_column": 160
        },
        {
         "0": 1,
         "_deepnote_index_column": 161
        },
        {
         "0": 1,
         "_deepnote_index_column": 162
        },
        {
         "0": 1,
         "_deepnote_index_column": 163
        },
        {
         "0": 1,
         "_deepnote_index_column": 164
        },
        {
         "0": 1,
         "_deepnote_index_column": 165
        },
        {
         "0": 1,
         "_deepnote_index_column": 166
        },
        {
         "0": 1,
         "_deepnote_index_column": 167
        },
        {
         "0": 1,
         "_deepnote_index_column": 168
        },
        {
         "0": -1,
         "_deepnote_index_column": 169
        },
        {
         "0": 1,
         "_deepnote_index_column": 170
        },
        {
         "0": 1,
         "_deepnote_index_column": 171
        },
        {
         "0": 1,
         "_deepnote_index_column": 172
        },
        {
         "0": 1,
         "_deepnote_index_column": 173
        },
        {
         "0": 1,
         "_deepnote_index_column": 174
        },
        {
         "0": -1,
         "_deepnote_index_column": 175
        },
        {
         "0": 1,
         "_deepnote_index_column": 176
        },
        {
         "0": 1,
         "_deepnote_index_column": 177
        },
        {
         "0": -1,
         "_deepnote_index_column": 178
        },
        {
         "0": 1,
         "_deepnote_index_column": 179
        },
        {
         "0": 1,
         "_deepnote_index_column": 180
        },
        {
         "0": 1,
         "_deepnote_index_column": 181
        },
        {
         "0": 1,
         "_deepnote_index_column": 182
        },
        {
         "0": 1,
         "_deepnote_index_column": 183
        },
        {
         "0": 1,
         "_deepnote_index_column": 184
        },
        {
         "0": 1,
         "_deepnote_index_column": 185
        },
        {
         "0": 1,
         "_deepnote_index_column": 186
        },
        {
         "0": 1,
         "_deepnote_index_column": 187
        },
        {
         "0": 1,
         "_deepnote_index_column": 188
        },
        {
         "0": 1,
         "_deepnote_index_column": 189
        },
        {
         "0": 1,
         "_deepnote_index_column": 190
        },
        {
         "0": 1,
         "_deepnote_index_column": 191
        },
        {
         "0": 1,
         "_deepnote_index_column": 192
        },
        {
         "0": 1,
         "_deepnote_index_column": 193
        },
        {
         "0": 1,
         "_deepnote_index_column": 194
        },
        {
         "0": 1,
         "_deepnote_index_column": 195
        },
        {
         "0": 1,
         "_deepnote_index_column": 196
        },
        {
         "0": 1,
         "_deepnote_index_column": 197
        },
        {
         "0": 1,
         "_deepnote_index_column": 198
        },
        {
         "0": -1,
         "_deepnote_index_column": 199
        },
        {
         "0": -1,
         "_deepnote_index_column": 200
        },
        {
         "0": 1,
         "_deepnote_index_column": 201
        },
        {
         "0": 1,
         "_deepnote_index_column": 202
        },
        {
         "0": 1,
         "_deepnote_index_column": 203
        },
        {
         "0": 1,
         "_deepnote_index_column": 204
        },
        {
         "0": 1,
         "_deepnote_index_column": 205
        },
        {
         "0": 1,
         "_deepnote_index_column": 206
        },
        {
         "0": 1,
         "_deepnote_index_column": 207
        },
        {
         "0": -1,
         "_deepnote_index_column": 208
        },
        {
         "0": -1,
         "_deepnote_index_column": 209
        },
        {
         "0": 1,
         "_deepnote_index_column": 210
        },
        {
         "0": 1,
         "_deepnote_index_column": 211
        },
        {
         "0": 1,
         "_deepnote_index_column": 212
        },
        {
         "0": 1,
         "_deepnote_index_column": 213
        },
        {
         "0": 1,
         "_deepnote_index_column": 214
        },
        {
         "0": 1,
         "_deepnote_index_column": 215
        },
        {
         "0": 1,
         "_deepnote_index_column": 216
        },
        {
         "0": 1,
         "_deepnote_index_column": 217
        },
        {
         "0": 1,
         "_deepnote_index_column": 218
        },
        {
         "0": 1,
         "_deepnote_index_column": 219
        },
        {
         "0": 1,
         "_deepnote_index_column": 220
        },
        {
         "0": 1,
         "_deepnote_index_column": 221
        },
        {
         "0": 1,
         "_deepnote_index_column": 222
        },
        {
         "0": 1,
         "_deepnote_index_column": 223
        },
        {
         "0": 1,
         "_deepnote_index_column": 224
        },
        {
         "0": 1,
         "_deepnote_index_column": 225
        },
        {
         "0": 1,
         "_deepnote_index_column": 226
        },
        {
         "0": 1,
         "_deepnote_index_column": 227
        },
        {
         "0": 1,
         "_deepnote_index_column": 228
        },
        {
         "0": -1,
         "_deepnote_index_column": 229
        },
        {
         "0": 1,
         "_deepnote_index_column": 230
        },
        {
         "0": 1,
         "_deepnote_index_column": 231
        },
        {
         "0": 1,
         "_deepnote_index_column": 232
        },
        {
         "0": 1,
         "_deepnote_index_column": 233
        },
        {
         "0": 1,
         "_deepnote_index_column": 234
        },
        {
         "0": 1,
         "_deepnote_index_column": 235
        },
        {
         "0": -1,
         "_deepnote_index_column": 236
        },
        {
         "0": 1,
         "_deepnote_index_column": 237
        },
        {
         "0": 1,
         "_deepnote_index_column": 238
        },
        {
         "0": 1,
         "_deepnote_index_column": 239
        },
        {
         "0": 1,
         "_deepnote_index_column": 240
        },
        {
         "0": 1,
         "_deepnote_index_column": 241
        },
        {
         "0": -1,
         "_deepnote_index_column": 242
        },
        {
         "0": 1,
         "_deepnote_index_column": 243
        },
        {
         "0": 1,
         "_deepnote_index_column": 244
        },
        {
         "0": 1,
         "_deepnote_index_column": 245
        },
        {
         "0": 1,
         "_deepnote_index_column": 246
        },
        {
         "0": 1,
         "_deepnote_index_column": 247
        },
        {
         "0": 1,
         "_deepnote_index_column": 248
        },
        {
         "0": 1,
         "_deepnote_index_column": 249
        },
        {
         "0": 1,
         "_deepnote_index_column": 250
        },
        {
         "0": -1,
         "_deepnote_index_column": 251
        },
        {
         "0": 1,
         "_deepnote_index_column": 252
        },
        {
         "0": 1,
         "_deepnote_index_column": 253
        },
        {
         "0": -1,
         "_deepnote_index_column": 254
        },
        {
         "0": 1,
         "_deepnote_index_column": 255
        },
        {
         "0": 1,
         "_deepnote_index_column": 256
        },
        {
         "0": 1,
         "_deepnote_index_column": 257
        },
        {
         "0": 1,
         "_deepnote_index_column": 258
        },
        {
         "0": 1,
         "_deepnote_index_column": 259
        },
        {
         "0": 1,
         "_deepnote_index_column": 260
        },
        {
         "0": 1,
         "_deepnote_index_column": 261
        },
        {
         "0": 1,
         "_deepnote_index_column": 262
        },
        {
         "0": 1,
         "_deepnote_index_column": 263
        },
        {
         "0": 1,
         "_deepnote_index_column": 264
        },
        {
         "0": -1,
         "_deepnote_index_column": 265
        },
        {
         "0": 1,
         "_deepnote_index_column": 266
        },
        {
         "0": 1,
         "_deepnote_index_column": 267
        },
        {
         "0": 1,
         "_deepnote_index_column": 268
        },
        {
         "0": 1,
         "_deepnote_index_column": 269
        },
        {
         "0": 1,
         "_deepnote_index_column": 270
        },
        {
         "0": 1,
         "_deepnote_index_column": 271
        },
        {
         "0": 1,
         "_deepnote_index_column": 272
        },
        {
         "0": 1,
         "_deepnote_index_column": 273
        },
        {
         "0": 1,
         "_deepnote_index_column": 274
        },
        {
         "0": 1,
         "_deepnote_index_column": 275
        },
        {
         "0": 1,
         "_deepnote_index_column": 276
        },
        {
         "0": 1,
         "_deepnote_index_column": 277
        },
        {
         "0": -1,
         "_deepnote_index_column": 278
        },
        {
         "0": 1,
         "_deepnote_index_column": 279
        },
        {
         "0": 1,
         "_deepnote_index_column": 280
        },
        {
         "0": 1,
         "_deepnote_index_column": 281
        },
        {
         "0": 1,
         "_deepnote_index_column": 282
        },
        {
         "0": 1,
         "_deepnote_index_column": 283
        },
        {
         "0": 1,
         "_deepnote_index_column": 284
        },
        {
         "0": 1,
         "_deepnote_index_column": 285
        },
        {
         "0": 1,
         "_deepnote_index_column": 286
        },
        {
         "0": 1,
         "_deepnote_index_column": 287
        },
        {
         "0": 1,
         "_deepnote_index_column": 288
        },
        {
         "0": -1,
         "_deepnote_index_column": 289
        },
        {
         "0": 1,
         "_deepnote_index_column": 290
        },
        {
         "0": 1,
         "_deepnote_index_column": 291
        },
        {
         "0": 1,
         "_deepnote_index_column": 292
        },
        {
         "0": 1,
         "_deepnote_index_column": 293
        },
        {
         "0": 1,
         "_deepnote_index_column": 294
        },
        {
         "0": 1,
         "_deepnote_index_column": 295
        },
        {
         "0": 1,
         "_deepnote_index_column": 296
        },
        {
         "0": 1,
         "_deepnote_index_column": 297
        },
        {
         "0": 1,
         "_deepnote_index_column": 298
        },
        {
         "0": 1,
         "_deepnote_index_column": 299
        },
        {
         "0": 1,
         "_deepnote_index_column": 300
        },
        {
         "0": 1,
         "_deepnote_index_column": 301
        },
        {
         "0": 1,
         "_deepnote_index_column": 302
        },
        {
         "0": 1,
         "_deepnote_index_column": 303
        },
        {
         "0": 1,
         "_deepnote_index_column": 304
        },
        {
         "0": 1,
         "_deepnote_index_column": 305
        },
        {
         "0": 1,
         "_deepnote_index_column": 306
        },
        {
         "0": 1,
         "_deepnote_index_column": 307
        },
        {
         "0": -1,
         "_deepnote_index_column": 308
        },
        {
         "0": 1,
         "_deepnote_index_column": 309
        },
        {
         "0": 1,
         "_deepnote_index_column": 310
        },
        {
         "0": 1,
         "_deepnote_index_column": 311
        },
        {
         "0": 1,
         "_deepnote_index_column": 312
        },
        {
         "0": 1,
         "_deepnote_index_column": 313
        },
        {
         "0": 1,
         "_deepnote_index_column": 314
        },
        {
         "0": 1,
         "_deepnote_index_column": 315
        },
        {
         "0": 1,
         "_deepnote_index_column": 316
        },
        {
         "0": 1,
         "_deepnote_index_column": 317
        },
        {
         "0": -1,
         "_deepnote_index_column": 318
        },
        {
         "0": 1,
         "_deepnote_index_column": 319
        },
        {
         "0": 1,
         "_deepnote_index_column": 320
        },
        {
         "0": 1,
         "_deepnote_index_column": 321
        },
        {
         "0": -1,
         "_deepnote_index_column": 322
        },
        {
         "0": 1,
         "_deepnote_index_column": 323
        },
        {
         "0": 1,
         "_deepnote_index_column": 324
        },
        {
         "0": 1,
         "_deepnote_index_column": 325
        },
        {
         "0": 1,
         "_deepnote_index_column": 326
        },
        {
         "0": 1,
         "_deepnote_index_column": 327
        },
        {
         "0": 1,
         "_deepnote_index_column": 328
        },
        {
         "0": 1,
         "_deepnote_index_column": 329
        },
        {
         "0": 1,
         "_deepnote_index_column": 330
        },
        {
         "0": 1,
         "_deepnote_index_column": 331
        },
        {
         "0": -1,
         "_deepnote_index_column": 332
        },
        {
         "0": 1,
         "_deepnote_index_column": 333
        },
        {
         "0": 1,
         "_deepnote_index_column": 334
        },
        {
         "0": 1,
         "_deepnote_index_column": 335
        },
        {
         "0": -1,
         "_deepnote_index_column": 336
        },
        {
         "0": 1,
         "_deepnote_index_column": 337
        },
        {
         "0": -1,
         "_deepnote_index_column": 338
        },
        {
         "0": 1,
         "_deepnote_index_column": 339
        },
        {
         "0": 1,
         "_deepnote_index_column": 340
        },
        {
         "0": 1,
         "_deepnote_index_column": 341
        },
        {
         "0": 1,
         "_deepnote_index_column": 342
        },
        {
         "0": 1,
         "_deepnote_index_column": 343
        },
        {
         "0": 1,
         "_deepnote_index_column": 344
        },
        {
         "0": 1,
         "_deepnote_index_column": 345
        },
        {
         "0": 1,
         "_deepnote_index_column": 346
        },
        {
         "0": 1,
         "_deepnote_index_column": 347
        },
        {
         "0": 1,
         "_deepnote_index_column": 348
        },
        {
         "0": 1,
         "_deepnote_index_column": 349
        },
        {
         "0": 1,
         "_deepnote_index_column": 350
        },
        {
         "0": 1,
         "_deepnote_index_column": 351
        },
        {
         "0": 1,
         "_deepnote_index_column": 352
        },
        {
         "0": 1,
         "_deepnote_index_column": 353
        },
        {
         "0": 1,
         "_deepnote_index_column": 354
        },
        {
         "0": 1,
         "_deepnote_index_column": 355
        },
        {
         "0": 1,
         "_deepnote_index_column": 356
        },
        {
         "0": 1,
         "_deepnote_index_column": 357
        },
        {
         "0": -1,
         "_deepnote_index_column": 358
        },
        {
         "0": -1,
         "_deepnote_index_column": 359
        },
        {
         "0": 1,
         "_deepnote_index_column": 360
        },
        {
         "0": 1,
         "_deepnote_index_column": 361
        },
        {
         "0": -1,
         "_deepnote_index_column": 362
        },
        {
         "0": 1,
         "_deepnote_index_column": 363
        },
        {
         "0": 1,
         "_deepnote_index_column": 364
        },
        {
         "0": -1,
         "_deepnote_index_column": 365
        },
        {
         "0": -1,
         "_deepnote_index_column": 366
        },
        {
         "0": 1,
         "_deepnote_index_column": 367
        },
        {
         "0": 1,
         "_deepnote_index_column": 368
        },
        {
         "0": 1,
         "_deepnote_index_column": 369
        },
        {
         "0": -1,
         "_deepnote_index_column": 370
        },
        {
         "0": 1,
         "_deepnote_index_column": 371
        },
        {
         "0": 1,
         "_deepnote_index_column": 372
        },
        {
         "0": 1,
         "_deepnote_index_column": 373
        },
        {
         "0": 1,
         "_deepnote_index_column": 374
        },
        {
         "0": 1,
         "_deepnote_index_column": 375
        },
        {
         "0": 1,
         "_deepnote_index_column": 376
        },
        {
         "0": 1,
         "_deepnote_index_column": 377
        },
        {
         "0": 1,
         "_deepnote_index_column": 378
        },
        {
         "0": 1,
         "_deepnote_index_column": 379
        },
        {
         "0": 1,
         "_deepnote_index_column": 380
        },
        {
         "0": 1,
         "_deepnote_index_column": 381
        },
        {
         "0": 1,
         "_deepnote_index_column": 382
        },
        {
         "0": 1,
         "_deepnote_index_column": 383
        },
        {
         "0": -1,
         "_deepnote_index_column": 384
        },
        {
         "0": 1,
         "_deepnote_index_column": 385
        },
        {
         "0": 1,
         "_deepnote_index_column": 386
        },
        {
         "0": 1,
         "_deepnote_index_column": 387
        },
        {
         "0": 1,
         "_deepnote_index_column": 388
        },
        {
         "0": -1,
         "_deepnote_index_column": 389
        },
        {
         "0": 1,
         "_deepnote_index_column": 390
        },
        {
         "0": 1,
         "_deepnote_index_column": 391
        },
        {
         "0": 1,
         "_deepnote_index_column": 392
        },
        {
         "0": 1,
         "_deepnote_index_column": 393
        },
        {
         "0": 1,
         "_deepnote_index_column": 394
        },
        {
         "0": 1,
         "_deepnote_index_column": 395
        },
        {
         "0": 1,
         "_deepnote_index_column": 396
        },
        {
         "0": 1,
         "_deepnote_index_column": 397
        },
        {
         "0": 1,
         "_deepnote_index_column": 398
        },
        {
         "0": 1,
         "_deepnote_index_column": 399
        },
        {
         "0": -1,
         "_deepnote_index_column": 400
        },
        {
         "0": -1,
         "_deepnote_index_column": 401
        },
        {
         "0": 1,
         "_deepnote_index_column": 402
        },
        {
         "0": -1,
         "_deepnote_index_column": 403
        },
        {
         "0": 1,
         "_deepnote_index_column": 404
        },
        {
         "0": 1,
         "_deepnote_index_column": 405
        },
        {
         "0": 1,
         "_deepnote_index_column": 406
        },
        {
         "0": 1,
         "_deepnote_index_column": 407
        },
        {
         "0": -1,
         "_deepnote_index_column": 408
        },
        {
         "0": 1,
         "_deepnote_index_column": 409
        },
        {
         "0": 1,
         "_deepnote_index_column": 410
        },
        {
         "0": 1,
         "_deepnote_index_column": 411
        },
        {
         "0": 1,
         "_deepnote_index_column": 412
        },
        {
         "0": 1,
         "_deepnote_index_column": 413
        },
        {
         "0": 1,
         "_deepnote_index_column": 414
        },
        {
         "0": 1,
         "_deepnote_index_column": 415
        },
        {
         "0": 1,
         "_deepnote_index_column": 416
        },
        {
         "0": 1,
         "_deepnote_index_column": 417
        },
        {
         "0": 1,
         "_deepnote_index_column": 418
        },
        {
         "0": 1,
         "_deepnote_index_column": 419
        },
        {
         "0": 1,
         "_deepnote_index_column": 420
        },
        {
         "0": -1,
         "_deepnote_index_column": 421
        },
        {
         "0": 1,
         "_deepnote_index_column": 422
        },
        {
         "0": 1,
         "_deepnote_index_column": 423
        },
        {
         "0": 1,
         "_deepnote_index_column": 424
        },
        {
         "0": 1,
         "_deepnote_index_column": 425
        },
        {
         "0": 1,
         "_deepnote_index_column": 426
        },
        {
         "0": 1,
         "_deepnote_index_column": 427
        },
        {
         "0": 1,
         "_deepnote_index_column": 428
        },
        {
         "0": 1,
         "_deepnote_index_column": 429
        },
        {
         "0": 1,
         "_deepnote_index_column": 430
        },
        {
         "0": 1,
         "_deepnote_index_column": 431
        },
        {
         "0": 1,
         "_deepnote_index_column": 432
        },
        {
         "0": -1,
         "_deepnote_index_column": 433
        },
        {
         "0": 1,
         "_deepnote_index_column": 434
        },
        {
         "0": 1,
         "_deepnote_index_column": 435
        },
        {
         "0": 1,
         "_deepnote_index_column": 436
        },
        {
         "0": 1,
         "_deepnote_index_column": 437
        },
        {
         "0": 1,
         "_deepnote_index_column": 438
        },
        {
         "0": 1,
         "_deepnote_index_column": 439
        },
        {
         "0": 1,
         "_deepnote_index_column": 440
        },
        {
         "0": 1,
         "_deepnote_index_column": 441
        },
        {
         "0": 1,
         "_deepnote_index_column": 442
        },
        {
         "0": 1,
         "_deepnote_index_column": 443
        },
        {
         "0": 1,
         "_deepnote_index_column": 444
        },
        {
         "0": 1,
         "_deepnote_index_column": 445
        },
        {
         "0": 1,
         "_deepnote_index_column": 446
        },
        {
         "0": 1,
         "_deepnote_index_column": 447
        },
        {
         "0": 1,
         "_deepnote_index_column": 448
        },
        {
         "0": 1,
         "_deepnote_index_column": 449
        },
        {
         "0": 1,
         "_deepnote_index_column": 450
        },
        {
         "0": 1,
         "_deepnote_index_column": 451
        },
        {
         "0": -1,
         "_deepnote_index_column": 452
        },
        {
         "0": 1,
         "_deepnote_index_column": 453
        },
        {
         "0": 1,
         "_deepnote_index_column": 454
        },
        {
         "0": 1,
         "_deepnote_index_column": 455
        },
        {
         "0": 1,
         "_deepnote_index_column": 456
        },
        {
         "0": 1,
         "_deepnote_index_column": 457
        },
        {
         "0": -1,
         "_deepnote_index_column": 458
        },
        {
         "0": 1,
         "_deepnote_index_column": 459
        },
        {
         "0": 1,
         "_deepnote_index_column": 460
        },
        {
         "0": -1,
         "_deepnote_index_column": 461
        },
        {
         "0": 1,
         "_deepnote_index_column": 462
        },
        {
         "0": -1,
         "_deepnote_index_column": 463
        },
        {
         "0": 1,
         "_deepnote_index_column": 464
        },
        {
         "0": 1,
         "_deepnote_index_column": 465
        },
        {
         "0": 1,
         "_deepnote_index_column": 466
        },
        {
         "0": -1,
         "_deepnote_index_column": 467
        },
        {
         "0": 1,
         "_deepnote_index_column": 468
        },
        {
         "0": 1,
         "_deepnote_index_column": 469
        },
        {
         "0": 1,
         "_deepnote_index_column": 470
        },
        {
         "0": 1,
         "_deepnote_index_column": 471
        },
        {
         "0": -1,
         "_deepnote_index_column": 472
        },
        {
         "0": 1,
         "_deepnote_index_column": 473
        },
        {
         "0": 1,
         "_deepnote_index_column": 474
        },
        {
         "0": 1,
         "_deepnote_index_column": 475
        },
        {
         "0": 1,
         "_deepnote_index_column": 476
        },
        {
         "0": 1,
         "_deepnote_index_column": 477
        },
        {
         "0": 1,
         "_deepnote_index_column": 478
        },
        {
         "0": 1,
         "_deepnote_index_column": 479
        },
        {
         "0": 1,
         "_deepnote_index_column": 480
        },
        {
         "0": 1,
         "_deepnote_index_column": 481
        },
        {
         "0": 1,
         "_deepnote_index_column": 482
        },
        {
         "0": 1,
         "_deepnote_index_column": 483
        },
        {
         "0": 1,
         "_deepnote_index_column": 484
        },
        {
         "0": 1,
         "_deepnote_index_column": 485
        },
        {
         "0": 1,
         "_deepnote_index_column": 486
        },
        {
         "0": 1,
         "_deepnote_index_column": 487
        },
        {
         "0": 1,
         "_deepnote_index_column": 488
        },
        {
         "0": 1,
         "_deepnote_index_column": 489
        },
        {
         "0": 1,
         "_deepnote_index_column": 490
        },
        {
         "0": 1,
         "_deepnote_index_column": 491
        },
        {
         "0": 1,
         "_deepnote_index_column": 492
        },
        {
         "0": 1,
         "_deepnote_index_column": 493
        },
        {
         "0": 1,
         "_deepnote_index_column": 494
        },
        {
         "0": 1,
         "_deepnote_index_column": 495
        },
        {
         "0": -1,
         "_deepnote_index_column": 496
        },
        {
         "0": -1,
         "_deepnote_index_column": 497
        },
        {
         "0": 1,
         "_deepnote_index_column": 498
        },
        {
         "0": 1,
         "_deepnote_index_column": 499
        }
       ],
       "rows_bottom": [
        {
         "0": 1,
         "_deepnote_index_column": 750
        },
        {
         "0": 1,
         "_deepnote_index_column": 751
        },
        {
         "0": -1,
         "_deepnote_index_column": 752
        },
        {
         "0": 1,
         "_deepnote_index_column": 753
        },
        {
         "0": 1,
         "_deepnote_index_column": 754
        },
        {
         "0": 1,
         "_deepnote_index_column": 755
        },
        {
         "0": 1,
         "_deepnote_index_column": 756
        },
        {
         "0": 1,
         "_deepnote_index_column": 757
        },
        {
         "0": -1,
         "_deepnote_index_column": 758
        },
        {
         "0": 1,
         "_deepnote_index_column": 759
        },
        {
         "0": 1,
         "_deepnote_index_column": 760
        },
        {
         "0": 1,
         "_deepnote_index_column": 761
        },
        {
         "0": 1,
         "_deepnote_index_column": 762
        },
        {
         "0": -1,
         "_deepnote_index_column": 763
        },
        {
         "0": -1,
         "_deepnote_index_column": 764
        },
        {
         "0": 1,
         "_deepnote_index_column": 765
        },
        {
         "0": 1,
         "_deepnote_index_column": 766
        },
        {
         "0": -1,
         "_deepnote_index_column": 767
        },
        {
         "0": 1,
         "_deepnote_index_column": 768
        },
        {
         "0": 1,
         "_deepnote_index_column": 769
        },
        {
         "0": 1,
         "_deepnote_index_column": 770
        },
        {
         "0": 1,
         "_deepnote_index_column": 771
        },
        {
         "0": 1,
         "_deepnote_index_column": 772
        },
        {
         "0": 1,
         "_deepnote_index_column": 773
        },
        {
         "0": 1,
         "_deepnote_index_column": 774
        },
        {
         "0": 1,
         "_deepnote_index_column": 775
        },
        {
         "0": 1,
         "_deepnote_index_column": 776
        },
        {
         "0": 1,
         "_deepnote_index_column": 777
        },
        {
         "0": 1,
         "_deepnote_index_column": 778
        },
        {
         "0": 1,
         "_deepnote_index_column": 779
        },
        {
         "0": 1,
         "_deepnote_index_column": 780
        },
        {
         "0": 1,
         "_deepnote_index_column": 781
        },
        {
         "0": -1,
         "_deepnote_index_column": 782
        },
        {
         "0": 1,
         "_deepnote_index_column": 783
        },
        {
         "0": 1,
         "_deepnote_index_column": 784
        },
        {
         "0": 1,
         "_deepnote_index_column": 785
        },
        {
         "0": 1,
         "_deepnote_index_column": 786
        },
        {
         "0": -1,
         "_deepnote_index_column": 787
        },
        {
         "0": 1,
         "_deepnote_index_column": 788
        },
        {
         "0": 1,
         "_deepnote_index_column": 789
        },
        {
         "0": 1,
         "_deepnote_index_column": 790
        },
        {
         "0": 1,
         "_deepnote_index_column": 791
        },
        {
         "0": 1,
         "_deepnote_index_column": 792
        },
        {
         "0": -1,
         "_deepnote_index_column": 793
        },
        {
         "0": 1,
         "_deepnote_index_column": 794
        },
        {
         "0": 1,
         "_deepnote_index_column": 795
        },
        {
         "0": 1,
         "_deepnote_index_column": 796
        },
        {
         "0": 1,
         "_deepnote_index_column": 797
        },
        {
         "0": -1,
         "_deepnote_index_column": 798
        },
        {
         "0": 1,
         "_deepnote_index_column": 799
        },
        {
         "0": 1,
         "_deepnote_index_column": 800
        },
        {
         "0": -1,
         "_deepnote_index_column": 801
        },
        {
         "0": 1,
         "_deepnote_index_column": 802
        },
        {
         "0": -1,
         "_deepnote_index_column": 803
        },
        {
         "0": -1,
         "_deepnote_index_column": 804
        },
        {
         "0": 1,
         "_deepnote_index_column": 805
        },
        {
         "0": 1,
         "_deepnote_index_column": 806
        },
        {
         "0": 1,
         "_deepnote_index_column": 807
        },
        {
         "0": 1,
         "_deepnote_index_column": 808
        },
        {
         "0": 1,
         "_deepnote_index_column": 809
        },
        {
         "0": 1,
         "_deepnote_index_column": 810
        },
        {
         "0": 1,
         "_deepnote_index_column": 811
        },
        {
         "0": 1,
         "_deepnote_index_column": 812
        },
        {
         "0": 1,
         "_deepnote_index_column": 813
        },
        {
         "0": -1,
         "_deepnote_index_column": 814
        },
        {
         "0": 1,
         "_deepnote_index_column": 815
        },
        {
         "0": 1,
         "_deepnote_index_column": 816
        },
        {
         "0": 1,
         "_deepnote_index_column": 817
        },
        {
         "0": 1,
         "_deepnote_index_column": 818
        },
        {
         "0": 1,
         "_deepnote_index_column": 819
        },
        {
         "0": 1,
         "_deepnote_index_column": 820
        },
        {
         "0": 1,
         "_deepnote_index_column": 821
        },
        {
         "0": 1,
         "_deepnote_index_column": 822
        },
        {
         "0": 1,
         "_deepnote_index_column": 823
        },
        {
         "0": 1,
         "_deepnote_index_column": 824
        },
        {
         "0": 1,
         "_deepnote_index_column": 825
        },
        {
         "0": 1,
         "_deepnote_index_column": 826
        },
        {
         "0": -1,
         "_deepnote_index_column": 827
        },
        {
         "0": 1,
         "_deepnote_index_column": 828
        },
        {
         "0": 1,
         "_deepnote_index_column": 829
        },
        {
         "0": 1,
         "_deepnote_index_column": 830
        },
        {
         "0": 1,
         "_deepnote_index_column": 831
        },
        {
         "0": 1,
         "_deepnote_index_column": 832
        },
        {
         "0": 1,
         "_deepnote_index_column": 833
        },
        {
         "0": 1,
         "_deepnote_index_column": 834
        },
        {
         "0": 1,
         "_deepnote_index_column": 835
        },
        {
         "0": 1,
         "_deepnote_index_column": 836
        },
        {
         "0": 1,
         "_deepnote_index_column": 837
        },
        {
         "0": 1,
         "_deepnote_index_column": 838
        },
        {
         "0": 1,
         "_deepnote_index_column": 839
        },
        {
         "0": 1,
         "_deepnote_index_column": 840
        },
        {
         "0": 1,
         "_deepnote_index_column": 841
        },
        {
         "0": 1,
         "_deepnote_index_column": 842
        },
        {
         "0": 1,
         "_deepnote_index_column": 843
        },
        {
         "0": 1,
         "_deepnote_index_column": 844
        },
        {
         "0": 1,
         "_deepnote_index_column": 845
        },
        {
         "0": 1,
         "_deepnote_index_column": 846
        },
        {
         "0": 1,
         "_deepnote_index_column": 847
        },
        {
         "0": 1,
         "_deepnote_index_column": 848
        },
        {
         "0": -1,
         "_deepnote_index_column": 849
        },
        {
         "0": 1,
         "_deepnote_index_column": 850
        },
        {
         "0": 1,
         "_deepnote_index_column": 851
        },
        {
         "0": 1,
         "_deepnote_index_column": 852
        },
        {
         "0": 1,
         "_deepnote_index_column": 853
        },
        {
         "0": 1,
         "_deepnote_index_column": 854
        },
        {
         "0": 1,
         "_deepnote_index_column": 855
        },
        {
         "0": 1,
         "_deepnote_index_column": 856
        },
        {
         "0": 1,
         "_deepnote_index_column": 857
        },
        {
         "0": -1,
         "_deepnote_index_column": 858
        },
        {
         "0": 1,
         "_deepnote_index_column": 859
        },
        {
         "0": -1,
         "_deepnote_index_column": 860
        },
        {
         "0": 1,
         "_deepnote_index_column": 861
        },
        {
         "0": 1,
         "_deepnote_index_column": 862
        },
        {
         "0": 1,
         "_deepnote_index_column": 863
        },
        {
         "0": 1,
         "_deepnote_index_column": 864
        },
        {
         "0": 1,
         "_deepnote_index_column": 865
        },
        {
         "0": 1,
         "_deepnote_index_column": 866
        },
        {
         "0": 1,
         "_deepnote_index_column": 867
        },
        {
         "0": 1,
         "_deepnote_index_column": 868
        },
        {
         "0": -1,
         "_deepnote_index_column": 869
        },
        {
         "0": 1,
         "_deepnote_index_column": 870
        },
        {
         "0": 1,
         "_deepnote_index_column": 871
        },
        {
         "0": 1,
         "_deepnote_index_column": 872
        },
        {
         "0": 1,
         "_deepnote_index_column": 873
        },
        {
         "0": 1,
         "_deepnote_index_column": 874
        },
        {
         "0": 1,
         "_deepnote_index_column": 875
        },
        {
         "0": 1,
         "_deepnote_index_column": 876
        },
        {
         "0": 1,
         "_deepnote_index_column": 877
        },
        {
         "0": 1,
         "_deepnote_index_column": 878
        },
        {
         "0": 1,
         "_deepnote_index_column": 879
        },
        {
         "0": 1,
         "_deepnote_index_column": 880
        },
        {
         "0": 1,
         "_deepnote_index_column": 881
        },
        {
         "0": 1,
         "_deepnote_index_column": 882
        },
        {
         "0": 1,
         "_deepnote_index_column": 883
        },
        {
         "0": 1,
         "_deepnote_index_column": 884
        },
        {
         "0": 1,
         "_deepnote_index_column": 885
        },
        {
         "0": 1,
         "_deepnote_index_column": 886
        },
        {
         "0": 1,
         "_deepnote_index_column": 887
        },
        {
         "0": 1,
         "_deepnote_index_column": 888
        },
        {
         "0": -1,
         "_deepnote_index_column": 889
        },
        {
         "0": 1,
         "_deepnote_index_column": 890
        },
        {
         "0": 1,
         "_deepnote_index_column": 891
        },
        {
         "0": 1,
         "_deepnote_index_column": 892
        },
        {
         "0": -1,
         "_deepnote_index_column": 893
        },
        {
         "0": -1,
         "_deepnote_index_column": 894
        },
        {
         "0": 1,
         "_deepnote_index_column": 895
        },
        {
         "0": 1,
         "_deepnote_index_column": 896
        },
        {
         "0": 1,
         "_deepnote_index_column": 897
        },
        {
         "0": -1,
         "_deepnote_index_column": 898
        },
        {
         "0": 1,
         "_deepnote_index_column": 899
        },
        {
         "0": -1,
         "_deepnote_index_column": 900
        },
        {
         "0": 1,
         "_deepnote_index_column": 901
        },
        {
         "0": 1,
         "_deepnote_index_column": 902
        },
        {
         "0": 1,
         "_deepnote_index_column": 903
        },
        {
         "0": 1,
         "_deepnote_index_column": 904
        },
        {
         "0": 1,
         "_deepnote_index_column": 905
        },
        {
         "0": 1,
         "_deepnote_index_column": 906
        },
        {
         "0": 1,
         "_deepnote_index_column": 907
        },
        {
         "0": 1,
         "_deepnote_index_column": 908
        },
        {
         "0": 1,
         "_deepnote_index_column": 909
        },
        {
         "0": 1,
         "_deepnote_index_column": 910
        },
        {
         "0": 1,
         "_deepnote_index_column": 911
        },
        {
         "0": -1,
         "_deepnote_index_column": 912
        },
        {
         "0": 1,
         "_deepnote_index_column": 913
        },
        {
         "0": 1,
         "_deepnote_index_column": 914
        },
        {
         "0": 1,
         "_deepnote_index_column": 915
        },
        {
         "0": -1,
         "_deepnote_index_column": 916
        },
        {
         "0": 1,
         "_deepnote_index_column": 917
        },
        {
         "0": 1,
         "_deepnote_index_column": 918
        },
        {
         "0": 1,
         "_deepnote_index_column": 919
        },
        {
         "0": 1,
         "_deepnote_index_column": 920
        },
        {
         "0": 1,
         "_deepnote_index_column": 921
        },
        {
         "0": 1,
         "_deepnote_index_column": 922
        },
        {
         "0": 1,
         "_deepnote_index_column": 923
        },
        {
         "0": 1,
         "_deepnote_index_column": 924
        },
        {
         "0": 1,
         "_deepnote_index_column": 925
        },
        {
         "0": -1,
         "_deepnote_index_column": 926
        },
        {
         "0": 1,
         "_deepnote_index_column": 927
        },
        {
         "0": 1,
         "_deepnote_index_column": 928
        },
        {
         "0": 1,
         "_deepnote_index_column": 929
        },
        {
         "0": 1,
         "_deepnote_index_column": 930
        },
        {
         "0": 1,
         "_deepnote_index_column": 931
        },
        {
         "0": 1,
         "_deepnote_index_column": 932
        },
        {
         "0": 1,
         "_deepnote_index_column": 933
        },
        {
         "0": 1,
         "_deepnote_index_column": 934
        },
        {
         "0": 1,
         "_deepnote_index_column": 935
        },
        {
         "0": 1,
         "_deepnote_index_column": 936
        },
        {
         "0": -1,
         "_deepnote_index_column": 937
        },
        {
         "0": 1,
         "_deepnote_index_column": 938
        },
        {
         "0": -1,
         "_deepnote_index_column": 939
        },
        {
         "0": 1,
         "_deepnote_index_column": 940
        },
        {
         "0": 1,
         "_deepnote_index_column": 941
        },
        {
         "0": 1,
         "_deepnote_index_column": 942
        },
        {
         "0": 1,
         "_deepnote_index_column": 943
        },
        {
         "0": 1,
         "_deepnote_index_column": 944
        },
        {
         "0": 1,
         "_deepnote_index_column": 945
        },
        {
         "0": 1,
         "_deepnote_index_column": 946
        },
        {
         "0": 1,
         "_deepnote_index_column": 947
        },
        {
         "0": 1,
         "_deepnote_index_column": 948
        },
        {
         "0": 1,
         "_deepnote_index_column": 949
        },
        {
         "0": -1,
         "_deepnote_index_column": 950
        },
        {
         "0": -1,
         "_deepnote_index_column": 951
        },
        {
         "0": 1,
         "_deepnote_index_column": 952
        },
        {
         "0": 1,
         "_deepnote_index_column": 953
        },
        {
         "0": 1,
         "_deepnote_index_column": 954
        },
        {
         "0": 1,
         "_deepnote_index_column": 955
        },
        {
         "0": 1,
         "_deepnote_index_column": 956
        },
        {
         "0": 1,
         "_deepnote_index_column": 957
        },
        {
         "0": 1,
         "_deepnote_index_column": 958
        },
        {
         "0": 1,
         "_deepnote_index_column": 959
        },
        {
         "0": 1,
         "_deepnote_index_column": 960
        },
        {
         "0": 1,
         "_deepnote_index_column": 961
        },
        {
         "0": 1,
         "_deepnote_index_column": 962
        },
        {
         "0": 1,
         "_deepnote_index_column": 963
        },
        {
         "0": 1,
         "_deepnote_index_column": 964
        },
        {
         "0": 1,
         "_deepnote_index_column": 965
        },
        {
         "0": 1,
         "_deepnote_index_column": 966
        },
        {
         "0": -1,
         "_deepnote_index_column": 967
        },
        {
         "0": -1,
         "_deepnote_index_column": 968
        },
        {
         "0": 1,
         "_deepnote_index_column": 969
        },
        {
         "0": 1,
         "_deepnote_index_column": 970
        },
        {
         "0": 1,
         "_deepnote_index_column": 971
        },
        {
         "0": 1,
         "_deepnote_index_column": 972
        },
        {
         "0": 1,
         "_deepnote_index_column": 973
        },
        {
         "0": 1,
         "_deepnote_index_column": 974
        },
        {
         "0": 1,
         "_deepnote_index_column": 975
        },
        {
         "0": 1,
         "_deepnote_index_column": 976
        },
        {
         "0": 1,
         "_deepnote_index_column": 977
        },
        {
         "0": -1,
         "_deepnote_index_column": 978
        },
        {
         "0": 1,
         "_deepnote_index_column": 979
        },
        {
         "0": 1,
         "_deepnote_index_column": 980
        },
        {
         "0": 1,
         "_deepnote_index_column": 981
        },
        {
         "0": 1,
         "_deepnote_index_column": 982
        },
        {
         "0": -1,
         "_deepnote_index_column": 983
        },
        {
         "0": 1,
         "_deepnote_index_column": 984
        },
        {
         "0": 1,
         "_deepnote_index_column": 985
        },
        {
         "0": 1,
         "_deepnote_index_column": 986
        },
        {
         "0": 1,
         "_deepnote_index_column": 987
        },
        {
         "0": -1,
         "_deepnote_index_column": 988
        },
        {
         "0": 1,
         "_deepnote_index_column": 989
        },
        {
         "0": 1,
         "_deepnote_index_column": 990
        },
        {
         "0": 1,
         "_deepnote_index_column": 991
        },
        {
         "0": 1,
         "_deepnote_index_column": 992
        },
        {
         "0": 1,
         "_deepnote_index_column": 993
        },
        {
         "0": 1,
         "_deepnote_index_column": 994
        },
        {
         "0": -1,
         "_deepnote_index_column": 995
        },
        {
         "0": 1,
         "_deepnote_index_column": 996
        },
        {
         "0": 1,
         "_deepnote_index_column": 997
        },
        {
         "0": 1,
         "_deepnote_index_column": 998
        },
        {
         "0": 1,
         "_deepnote_index_column": 999
        },
        {
         "0": 1,
         "_deepnote_index_column": 1000
        },
        {
         "0": 1,
         "_deepnote_index_column": 1001
        },
        {
         "0": -1,
         "_deepnote_index_column": 1002
        },
        {
         "0": 1,
         "_deepnote_index_column": 1003
        },
        {
         "0": -1,
         "_deepnote_index_column": 1004
        },
        {
         "0": 1,
         "_deepnote_index_column": 1005
        },
        {
         "0": 1,
         "_deepnote_index_column": 1006
        },
        {
         "0": 1,
         "_deepnote_index_column": 1007
        },
        {
         "0": 1,
         "_deepnote_index_column": 1008
        },
        {
         "0": 1,
         "_deepnote_index_column": 1009
        },
        {
         "0": -1,
         "_deepnote_index_column": 1010
        },
        {
         "0": 1,
         "_deepnote_index_column": 1011
        },
        {
         "0": 1,
         "_deepnote_index_column": 1012
        },
        {
         "0": 1,
         "_deepnote_index_column": 1013
        },
        {
         "0": 1,
         "_deepnote_index_column": 1014
        },
        {
         "0": 1,
         "_deepnote_index_column": 1015
        },
        {
         "0": 1,
         "_deepnote_index_column": 1016
        },
        {
         "0": 1,
         "_deepnote_index_column": 1017
        },
        {
         "0": 1,
         "_deepnote_index_column": 1018
        },
        {
         "0": 1,
         "_deepnote_index_column": 1019
        },
        {
         "0": 1,
         "_deepnote_index_column": 1020
        },
        {
         "0": 1,
         "_deepnote_index_column": 1021
        },
        {
         "0": -1,
         "_deepnote_index_column": 1022
        },
        {
         "0": 1,
         "_deepnote_index_column": 1023
        },
        {
         "0": 1,
         "_deepnote_index_column": 1024
        },
        {
         "0": 1,
         "_deepnote_index_column": 1025
        },
        {
         "0": 1,
         "_deepnote_index_column": 1026
        },
        {
         "0": 1,
         "_deepnote_index_column": 1027
        },
        {
         "0": 1,
         "_deepnote_index_column": 1028
        },
        {
         "0": -1,
         "_deepnote_index_column": 1029
        },
        {
         "0": 1,
         "_deepnote_index_column": 1030
        },
        {
         "0": 1,
         "_deepnote_index_column": 1031
        },
        {
         "0": 1,
         "_deepnote_index_column": 1032
        },
        {
         "0": 1,
         "_deepnote_index_column": 1033
        },
        {
         "0": 1,
         "_deepnote_index_column": 1034
        },
        {
         "0": 1,
         "_deepnote_index_column": 1035
        },
        {
         "0": 1,
         "_deepnote_index_column": 1036
        },
        {
         "0": 1,
         "_deepnote_index_column": 1037
        },
        {
         "0": 1,
         "_deepnote_index_column": 1038
        },
        {
         "0": 1,
         "_deepnote_index_column": 1039
        },
        {
         "0": 1,
         "_deepnote_index_column": 1040
        },
        {
         "0": -1,
         "_deepnote_index_column": 1041
        },
        {
         "0": 1,
         "_deepnote_index_column": 1042
        },
        {
         "0": 1,
         "_deepnote_index_column": 1043
        },
        {
         "0": 1,
         "_deepnote_index_column": 1044
        },
        {
         "0": -1,
         "_deepnote_index_column": 1045
        },
        {
         "0": -1,
         "_deepnote_index_column": 1046
        },
        {
         "0": 1,
         "_deepnote_index_column": 1047
        },
        {
         "0": 1,
         "_deepnote_index_column": 1048
        },
        {
         "0": 1,
         "_deepnote_index_column": 1049
        },
        {
         "0": 1,
         "_deepnote_index_column": 1050
        },
        {
         "0": 1,
         "_deepnote_index_column": 1051
        },
        {
         "0": 1,
         "_deepnote_index_column": 1052
        },
        {
         "0": 1,
         "_deepnote_index_column": 1053
        },
        {
         "0": 1,
         "_deepnote_index_column": 1054
        },
        {
         "0": 1,
         "_deepnote_index_column": 1055
        },
        {
         "0": 1,
         "_deepnote_index_column": 1056
        },
        {
         "0": 1,
         "_deepnote_index_column": 1057
        },
        {
         "0": 1,
         "_deepnote_index_column": 1058
        },
        {
         "0": 1,
         "_deepnote_index_column": 1059
        },
        {
         "0": 1,
         "_deepnote_index_column": 1060
        },
        {
         "0": 1,
         "_deepnote_index_column": 1061
        },
        {
         "0": 1,
         "_deepnote_index_column": 1062
        },
        {
         "0": 1,
         "_deepnote_index_column": 1063
        },
        {
         "0": 1,
         "_deepnote_index_column": 1064
        },
        {
         "0": 1,
         "_deepnote_index_column": 1065
        },
        {
         "0": 1,
         "_deepnote_index_column": 1066
        },
        {
         "0": 1,
         "_deepnote_index_column": 1067
        },
        {
         "0": 1,
         "_deepnote_index_column": 1068
        },
        {
         "0": 1,
         "_deepnote_index_column": 1069
        },
        {
         "0": 1,
         "_deepnote_index_column": 1070
        },
        {
         "0": 1,
         "_deepnote_index_column": 1071
        },
        {
         "0": 1,
         "_deepnote_index_column": 1072
        },
        {
         "0": -1,
         "_deepnote_index_column": 1073
        },
        {
         "0": 1,
         "_deepnote_index_column": 1074
        },
        {
         "0": 1,
         "_deepnote_index_column": 1075
        },
        {
         "0": 1,
         "_deepnote_index_column": 1076
        },
        {
         "0": 1,
         "_deepnote_index_column": 1077
        },
        {
         "0": 1,
         "_deepnote_index_column": 1078
        },
        {
         "0": -1,
         "_deepnote_index_column": 1079
        },
        {
         "0": 1,
         "_deepnote_index_column": 1080
        },
        {
         "0": 1,
         "_deepnote_index_column": 1081
        },
        {
         "0": 1,
         "_deepnote_index_column": 1082
        },
        {
         "0": 1,
         "_deepnote_index_column": 1083
        },
        {
         "0": 1,
         "_deepnote_index_column": 1084
        },
        {
         "0": 1,
         "_deepnote_index_column": 1085
        },
        {
         "0": 1,
         "_deepnote_index_column": 1086
        },
        {
         "0": 1,
         "_deepnote_index_column": 1087
        },
        {
         "0": 1,
         "_deepnote_index_column": 1088
        },
        {
         "0": 1,
         "_deepnote_index_column": 1089
        },
        {
         "0": 1,
         "_deepnote_index_column": 1090
        },
        {
         "0": 1,
         "_deepnote_index_column": 1091
        },
        {
         "0": -1,
         "_deepnote_index_column": 1092
        },
        {
         "0": 1,
         "_deepnote_index_column": 1093
        },
        {
         "0": 1,
         "_deepnote_index_column": 1094
        },
        {
         "0": 1,
         "_deepnote_index_column": 1095
        },
        {
         "0": 1,
         "_deepnote_index_column": 1096
        },
        {
         "0": 1,
         "_deepnote_index_column": 1097
        },
        {
         "0": 1,
         "_deepnote_index_column": 1098
        },
        {
         "0": 1,
         "_deepnote_index_column": 1099
        },
        {
         "0": 1,
         "_deepnote_index_column": 1100
        },
        {
         "0": 1,
         "_deepnote_index_column": 1101
        },
        {
         "0": 1,
         "_deepnote_index_column": 1102
        },
        {
         "0": 1,
         "_deepnote_index_column": 1103
        },
        {
         "0": 1,
         "_deepnote_index_column": 1104
        },
        {
         "0": 1,
         "_deepnote_index_column": 1105
        },
        {
         "0": 1,
         "_deepnote_index_column": 1106
        },
        {
         "0": 1,
         "_deepnote_index_column": 1107
        },
        {
         "0": -1,
         "_deepnote_index_column": 1108
        },
        {
         "0": 1,
         "_deepnote_index_column": 1109
        },
        {
         "0": 1,
         "_deepnote_index_column": 1110
        },
        {
         "0": 1,
         "_deepnote_index_column": 1111
        },
        {
         "0": -1,
         "_deepnote_index_column": 1112
        },
        {
         "0": 1,
         "_deepnote_index_column": 1113
        },
        {
         "0": 1,
         "_deepnote_index_column": 1114
        },
        {
         "0": 1,
         "_deepnote_index_column": 1115
        },
        {
         "0": 1,
         "_deepnote_index_column": 1116
        },
        {
         "0": 1,
         "_deepnote_index_column": 1117
        },
        {
         "0": 1,
         "_deepnote_index_column": 1118
        },
        {
         "0": -1,
         "_deepnote_index_column": 1119
        },
        {
         "0": 1,
         "_deepnote_index_column": 1120
        },
        {
         "0": 1,
         "_deepnote_index_column": 1121
        },
        {
         "0": 1,
         "_deepnote_index_column": 1122
        },
        {
         "0": 1,
         "_deepnote_index_column": 1123
        },
        {
         "0": 1,
         "_deepnote_index_column": 1124
        },
        {
         "0": 1,
         "_deepnote_index_column": 1125
        },
        {
         "0": 1,
         "_deepnote_index_column": 1126
        },
        {
         "0": 1,
         "_deepnote_index_column": 1127
        },
        {
         "0": 1,
         "_deepnote_index_column": 1128
        },
        {
         "0": 1,
         "_deepnote_index_column": 1129
        },
        {
         "0": 1,
         "_deepnote_index_column": 1130
        },
        {
         "0": 1,
         "_deepnote_index_column": 1131
        },
        {
         "0": 1,
         "_deepnote_index_column": 1132
        },
        {
         "0": 1,
         "_deepnote_index_column": 1133
        },
        {
         "0": 1,
         "_deepnote_index_column": 1134
        },
        {
         "0": 1,
         "_deepnote_index_column": 1135
        },
        {
         "0": 1,
         "_deepnote_index_column": 1136
        },
        {
         "0": 1,
         "_deepnote_index_column": 1137
        },
        {
         "0": 1,
         "_deepnote_index_column": 1138
        },
        {
         "0": 1,
         "_deepnote_index_column": 1139
        },
        {
         "0": 1,
         "_deepnote_index_column": 1140
        },
        {
         "0": 1,
         "_deepnote_index_column": 1141
        },
        {
         "0": 1,
         "_deepnote_index_column": 1142
        },
        {
         "0": 1,
         "_deepnote_index_column": 1143
        },
        {
         "0": 1,
         "_deepnote_index_column": 1144
        },
        {
         "0": 1,
         "_deepnote_index_column": 1145
        },
        {
         "0": 1,
         "_deepnote_index_column": 1146
        },
        {
         "0": 1,
         "_deepnote_index_column": 1147
        },
        {
         "0": 1,
         "_deepnote_index_column": 1148
        },
        {
         "0": 1,
         "_deepnote_index_column": 1149
        },
        {
         "0": 1,
         "_deepnote_index_column": 1150
        },
        {
         "0": 1,
         "_deepnote_index_column": 1151
        },
        {
         "0": -1,
         "_deepnote_index_column": 1152
        },
        {
         "0": -1,
         "_deepnote_index_column": 1153
        },
        {
         "0": 1,
         "_deepnote_index_column": 1154
        },
        {
         "0": 1,
         "_deepnote_index_column": 1155
        },
        {
         "0": 1,
         "_deepnote_index_column": 1156
        },
        {
         "0": 1,
         "_deepnote_index_column": 1157
        },
        {
         "0": 1,
         "_deepnote_index_column": 1158
        },
        {
         "0": 1,
         "_deepnote_index_column": 1159
        },
        {
         "0": 1,
         "_deepnote_index_column": 1160
        },
        {
         "0": 1,
         "_deepnote_index_column": 1161
        },
        {
         "0": 1,
         "_deepnote_index_column": 1162
        },
        {
         "0": -1,
         "_deepnote_index_column": 1163
        },
        {
         "0": 1,
         "_deepnote_index_column": 1164
        },
        {
         "0": 1,
         "_deepnote_index_column": 1165
        },
        {
         "0": 1,
         "_deepnote_index_column": 1166
        },
        {
         "0": 1,
         "_deepnote_index_column": 1167
        },
        {
         "0": 1,
         "_deepnote_index_column": 1168
        },
        {
         "0": 1,
         "_deepnote_index_column": 1169
        },
        {
         "0": 1,
         "_deepnote_index_column": 1170
        },
        {
         "0": 1,
         "_deepnote_index_column": 1171
        },
        {
         "0": 1,
         "_deepnote_index_column": 1172
        },
        {
         "0": 1,
         "_deepnote_index_column": 1173
        },
        {
         "0": -1,
         "_deepnote_index_column": 1174
        },
        {
         "0": 1,
         "_deepnote_index_column": 1175
        },
        {
         "0": 1,
         "_deepnote_index_column": 1176
        },
        {
         "0": 1,
         "_deepnote_index_column": 1177
        },
        {
         "0": 1,
         "_deepnote_index_column": 1178
        },
        {
         "0": 1,
         "_deepnote_index_column": 1179
        },
        {
         "0": 1,
         "_deepnote_index_column": 1180
        },
        {
         "0": 1,
         "_deepnote_index_column": 1181
        },
        {
         "0": -1,
         "_deepnote_index_column": 1182
        },
        {
         "0": 1,
         "_deepnote_index_column": 1183
        },
        {
         "0": 1,
         "_deepnote_index_column": 1184
        },
        {
         "0": 1,
         "_deepnote_index_column": 1185
        },
        {
         "0": 1,
         "_deepnote_index_column": 1186
        },
        {
         "0": 1,
         "_deepnote_index_column": 1187
        },
        {
         "0": -1,
         "_deepnote_index_column": 1188
        },
        {
         "0": 1,
         "_deepnote_index_column": 1189
        },
        {
         "0": 1,
         "_deepnote_index_column": 1190
        },
        {
         "0": 1,
         "_deepnote_index_column": 1191
        },
        {
         "0": 1,
         "_deepnote_index_column": 1192
        },
        {
         "0": 1,
         "_deepnote_index_column": 1193
        },
        {
         "0": 1,
         "_deepnote_index_column": 1194
        },
        {
         "0": 1,
         "_deepnote_index_column": 1195
        },
        {
         "0": 1,
         "_deepnote_index_column": 1196
        },
        {
         "0": 1,
         "_deepnote_index_column": 1197
        },
        {
         "0": 1,
         "_deepnote_index_column": 1198
        },
        {
         "0": 1,
         "_deepnote_index_column": 1199
        },
        {
         "0": 1,
         "_deepnote_index_column": 1200
        },
        {
         "0": 1,
         "_deepnote_index_column": 1201
        },
        {
         "0": -1,
         "_deepnote_index_column": 1202
        },
        {
         "0": 1,
         "_deepnote_index_column": 1203
        },
        {
         "0": 1,
         "_deepnote_index_column": 1204
        },
        {
         "0": 1,
         "_deepnote_index_column": 1205
        },
        {
         "0": 1,
         "_deepnote_index_column": 1206
        },
        {
         "0": 1,
         "_deepnote_index_column": 1207
        },
        {
         "0": 1,
         "_deepnote_index_column": 1208
        },
        {
         "0": 1,
         "_deepnote_index_column": 1209
        },
        {
         "0": 1,
         "_deepnote_index_column": 1210
        },
        {
         "0": 1,
         "_deepnote_index_column": 1211
        },
        {
         "0": 1,
         "_deepnote_index_column": 1212
        },
        {
         "0": 1,
         "_deepnote_index_column": 1213
        },
        {
         "0": 1,
         "_deepnote_index_column": 1214
        },
        {
         "0": 1,
         "_deepnote_index_column": 1215
        },
        {
         "0": 1,
         "_deepnote_index_column": 1216
        },
        {
         "0": 1,
         "_deepnote_index_column": 1217
        },
        {
         "0": 1,
         "_deepnote_index_column": 1218
        },
        {
         "0": 1,
         "_deepnote_index_column": 1219
        },
        {
         "0": 1,
         "_deepnote_index_column": 1220
        },
        {
         "0": 1,
         "_deepnote_index_column": 1221
        },
        {
         "0": 1,
         "_deepnote_index_column": 1222
        },
        {
         "0": 1,
         "_deepnote_index_column": 1223
        },
        {
         "0": 1,
         "_deepnote_index_column": 1224
        },
        {
         "0": 1,
         "_deepnote_index_column": 1225
        },
        {
         "0": 1,
         "_deepnote_index_column": 1226
        },
        {
         "0": 1,
         "_deepnote_index_column": 1227
        },
        {
         "0": 1,
         "_deepnote_index_column": 1228
        },
        {
         "0": 1,
         "_deepnote_index_column": 1229
        },
        {
         "0": 1,
         "_deepnote_index_column": 1230
        },
        {
         "0": 1,
         "_deepnote_index_column": 1231
        },
        {
         "0": -1,
         "_deepnote_index_column": 1232
        },
        {
         "0": 1,
         "_deepnote_index_column": 1233
        },
        {
         "0": 1,
         "_deepnote_index_column": 1234
        },
        {
         "0": 1,
         "_deepnote_index_column": 1235
        },
        {
         "0": -1,
         "_deepnote_index_column": 1236
        },
        {
         "0": -1,
         "_deepnote_index_column": 1237
        },
        {
         "0": 1,
         "_deepnote_index_column": 1238
        },
        {
         "0": 1,
         "_deepnote_index_column": 1239
        },
        {
         "0": 1,
         "_deepnote_index_column": 1240
        },
        {
         "0": -1,
         "_deepnote_index_column": 1241
        },
        {
         "0": 1,
         "_deepnote_index_column": 1242
        },
        {
         "0": 1,
         "_deepnote_index_column": 1243
        },
        {
         "0": 1,
         "_deepnote_index_column": 1244
        },
        {
         "0": 1,
         "_deepnote_index_column": 1245
        },
        {
         "0": 1,
         "_deepnote_index_column": 1246
        },
        {
         "0": 1,
         "_deepnote_index_column": 1247
        },
        {
         "0": 1,
         "_deepnote_index_column": 1248
        },
        {
         "0": -1,
         "_deepnote_index_column": 1249
        }
       ]
      },
      "text/plain": "      0\n0    -1\n1     1\n2     1\n3     1\n4    -1\n...  ..\n1245  1\n1246  1\n1247  1\n1248  1\n1249 -1\n\n[1250 rows x 1 columns]",
      "text/html": "<div>\n<style scoped>\n    .dataframe tbody tr th:only-of-type {\n        vertical-align: middle;\n    }\n\n    .dataframe tbody tr th {\n        vertical-align: top;\n    }\n\n    .dataframe thead th {\n        text-align: right;\n    }\n</style>\n<table border=\"1\" class=\"dataframe\">\n  <thead>\n    <tr style=\"text-align: right;\">\n      <th></th>\n      <th>0</th>\n    </tr>\n  </thead>\n  <tbody>\n    <tr>\n      <th>0</th>\n      <td>-1</td>\n    </tr>\n    <tr>\n      <th>1</th>\n      <td>1</td>\n    </tr>\n    <tr>\n      <th>2</th>\n      <td>1</td>\n    </tr>\n    <tr>\n      <th>3</th>\n      <td>1</td>\n    </tr>\n    <tr>\n      <th>4</th>\n      <td>-1</td>\n    </tr>\n    <tr>\n      <th>...</th>\n      <td>...</td>\n    </tr>\n    <tr>\n      <th>1245</th>\n      <td>1</td>\n    </tr>\n    <tr>\n      <th>1246</th>\n      <td>1</td>\n    </tr>\n    <tr>\n      <th>1247</th>\n      <td>1</td>\n    </tr>\n    <tr>\n      <th>1248</th>\n      <td>1</td>\n    </tr>\n    <tr>\n      <th>1249</th>\n      <td>-1</td>\n    </tr>\n  </tbody>\n</table>\n<p>1250 rows × 1 columns</p>\n</div>"
     },
     "metadata": {}
    }
   ],
   "execution_count": 43
  },
  {
   "cell_type": "code",
   "metadata": {
    "tags": [],
    "cell_id": "00013-79b466cf-002e-4574-87fe-878500ed7377",
    "deepnote_to_be_reexecuted": false,
    "source_hash": "a44092d6",
    "execution_start": 1625118847094,
    "execution_millis": 19,
    "deepnote_cell_type": "code"
   },
   "source": "#Count values of dataframe with predicted labels\ntest_labels_df.value_counts()",
   "outputs": [
    {
     "output_type": "execute_result",
     "execution_count": 44,
     "data": {
      "text/plain": " 1    1096\n-1     154\ndtype: int64"
     },
     "metadata": {}
    }
   ],
   "execution_count": 44
  },
  {
   "cell_type": "markdown",
   "source": "<a style='text-decoration:none;line-height:16px;display:flex;color:#5B5B62;padding:10px;justify-content:end;' href='https://deepnote.com?utm_source=created-in-deepnote-cell&projectId=ae6d556f-9829-4201-b0d0-4c143a3266cf' target=\"_blank\">\n<img alt='Created in deepnote.com' style='display:inline;max-height:16px;margin:0px;margin-right:7.5px;' src='data:image/svg+xml;base64,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' > </img>\nCreated in <span style='font-weight:600;margin-left:4px;'>Deepnote</span></a>",
   "metadata": {
    "tags": [],
    "created_in_deepnote_cell": true,
    "deepnote_cell_type": "markdown"
   }
  }
 ],
 "nbformat": 4,
 "nbformat_minor": 2,
 "metadata": {
  "orig_nbformat": 2,
  "deepnote": {
   "is_reactive": false
  },
  "deepnote_notebook_id": "1c07fc87-b980-4413-962a-6c3fb24a3a3a",
  "deepnote_execution_queue": []
 }
}