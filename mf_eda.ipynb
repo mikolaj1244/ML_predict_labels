{
 "cells": [
  {
   "cell_type": "code",
   "metadata": {
    "tags": [],
    "cell_id": "00000-42a2d7d5-9234-4665-9b22-02c88a48f2e4",
    "deepnote_to_be_reexecuted": false,
    "source_hash": "bfde0f12",
    "execution_start": 1625059154061,
    "execution_millis": 2,
    "deepnote_cell_type": "code"
   },
   "source": "import numpy as np\nimport pandas as pd\nimport seaborn as sns\nimport matplotlib.pyplot as plt\nfrom scipy.stats import skew\nfrom sklearn.decomposition import PCA\nfrom sklearn.pipeline import Pipeline\nfrom sklearn.manifold import TSNE\nfrom sklearn.model_selection import train_test_split\nfrom sklearn.preprocessing import MinMaxScaler",
   "outputs": [],
   "execution_count": 63
  },
  {
   "cell_type": "code",
   "metadata": {
    "tags": [],
    "cell_id": "00001-0956e394-9342-48ef-9520-8113ddf280b2",
    "deepnote_to_be_reexecuted": false,
    "source_hash": "b0519216",
    "execution_start": 1625052234524,
    "execution_millis": 28284,
    "deepnote_cell_type": "code"
   },
   "source": "#Load datasets\ndef load_data() -> list:\n    X_train_ = pd.read_csv('train_data.csv', header=None)\n    y_labels = pd.read_csv('train_labels.csv', header=None)\n    X_test_ = pd.read_csv('test_data.csv', header=None)\n    return[X_train_, y_labels, X_test_]\nX, y, X_test_data = load_data()",
   "outputs": [],
   "execution_count": 13
  },
  {
   "cell_type": "code",
   "metadata": {
    "tags": [],
    "cell_id": "00003-646d9d9f-cc90-459e-b310-994a05eb3cb7",
    "deepnote_to_be_reexecuted": false,
    "source_hash": "5d00d158",
    "execution_start": 1625052287254,
    "execution_millis": 10,
    "deepnote_cell_type": "code"
   },
   "source": "#Show dimension of datasets\nprint('Dimension of training data:', X.shape)\nprint('Dimension of training labels:', y.shape)\nprint('Dimension of test data:', X_test_data.shape)",
   "outputs": [
    {
     "name": "stdout",
     "text": "Dimension of training data: (3750, 10000)\nDimension of training labels: (3750, 1)\nDimension of test data: (1250, 10000)\n",
     "output_type": "stream"
    }
   ],
   "execution_count": 14
  },
  {
   "cell_type": "code",
   "metadata": {
    "tags": [],
    "cell_id": "00003-cc0d0130-418e-4530-bc6f-27c087b44013",
    "deepnote_to_be_reexecuted": false,
    "source_hash": "f3858621",
    "execution_start": 1625053769542,
    "execution_millis": 57032,
    "deepnote_cell_type": "code"
   },
   "source": "#Show descriptive statistics\nprint('Descriptive statistics of training data:', X.describe())\nprint('Descriptive statistics of labels:', y.describe())\nprint('Descriptive statistics of test data:', X_test_data.describe())",
   "outputs": [
    {
     "name": "stdout",
     "text": "Descriptive statistics of training data:               0            1              2              3             4     \\\ncount  3750.000000  3750.000000    3750.000000    3750.000000   3750.000000   \nmean     30.644135     9.080955     169.679419     811.083532   -186.008805   \nstd     286.172414   213.166659   43665.003613   57123.457110  21942.466227   \nmin    -989.450000  -859.922000 -163336.428000 -243844.632000 -77566.109000   \n25%    -163.781750  -135.343500  -29284.119500  -38028.429000 -14426.799500   \n50%      35.478500     2.680500    1181.698500     980.588000   -154.835000   \n75%     215.780500   156.095750   29630.914500   40561.960250  14515.833000   \nmax    1224.394000   722.868000  177744.241000  215372.854000  86287.955000   \n\n              5            6            7            8            9     ...  \\\ncount  3750.000000  3750.000000  3750.000000  3750.000000  3750.000000  ...   \nmean     25.717789    24.918118    19.061259    14.826002    14.970447  ...   \nstd     711.556331   898.109174   868.676044   532.727247   236.749501  ...   \nmin   -2414.196000 -3227.681000 -3151.321000 -1792.781000  -794.271000  ...   \n25%    -448.696750  -590.170250  -562.956500  -349.689750  -144.157750  ...   \n50%      13.931500    13.674000    16.750500     9.731000    11.159500  ...   \n75%     506.893250   630.490750   608.698000   383.110500   179.768250  ...   \nmax    2446.466000  3118.087000  2966.971000  1914.308000   803.200000  ...   \n\n              9990         9991         9992         9993         9994  \\\ncount  3750.000000  3750.000000  3750.000000  3750.000000  3750.000000   \nmean     13.997377    21.456582    22.586461    16.736889    13.992185   \nstd     269.223339   545.746530   265.221187   503.416444   818.825405   \nmin    -957.937000 -1983.009000  -937.357000 -1758.858000 -2526.791000   \n25%    -169.777250  -352.959500  -154.639750  -328.083750  -550.599000   \n50%      18.700000    38.348500    26.199500    14.575500     1.363500   \n75%     196.049000   396.868500   198.237250   356.185500   574.453250   \nmax     893.196000  2080.750000  1070.453000  1705.664000  2868.989000   \n\n              9995         9996         9997         9998         9999  \ncount  3750.000000  3750.000000  3750.000000  3750.000000  3750.000000  \nmean     -1.426345     9.597250    -2.031243    -2.841237    38.071903  \nstd     655.666258   204.731554   793.022407   629.128655   768.405732  \nmin   -2165.769000  -739.205000 -2731.037000 -2223.909000 -2565.513000  \n25%    -432.000750  -129.076250  -561.304000  -424.192750  -462.828000  \n50%      -3.796500     8.600500    -4.243000    -7.628000    28.107000  \n75%     425.338000   149.855750   539.550000   427.794500   552.173500  \nmax    2562.331000   685.176000  3123.617000  2204.527000  2664.074000  \n\n[8 rows x 10000 columns]\nDescriptive statistics of labels:                 0\ncount  3750.00000\nmean      0.80000\nstd       0.60008\nmin      -1.00000\n25%       1.00000\n50%       1.00000\n75%       1.00000\nmax       1.00000\nDescriptive statistics of test data:               0            1              2              3             4     \\\ncount  1250.000000  1250.000000    1250.000000    1250.000000   1250.000000   \nmean      6.892262    24.231871     691.035041    -923.186420    472.853216   \nstd     279.865345   208.490530   43757.863316   57126.680674  21901.701715   \nmin   -1105.426000  -649.565000 -155113.836000 -184240.160000 -91291.593000   \n25%    -176.906000  -116.729500  -27510.364750  -41059.084000 -13750.416000   \n50%      12.362000    20.508000    -444.999500    -397.729500    765.368500   \n75%     185.231250   171.514250   31295.237500   36278.893000  14594.061750   \nmax    1053.495000   736.906000  141244.534000  177561.749000  60844.690000   \n\n              5            6            7            8            9     ...  \\\ncount  1250.000000  1250.000000  1250.000000  1250.000000  1250.000000  ...   \nmean     -5.603389    -8.430038    18.087694    45.521371     5.532402  ...   \nstd     713.053055   920.126198   878.797561   522.835391   228.835834  ...   \nmin   -2035.416000 -2908.191000 -2716.201000 -1637.602000  -841.328000  ...   \n25%    -520.422750  -635.170750  -562.046500  -343.264000  -154.387000  ...   \n50%      -8.634000    38.824500     6.567500    42.814500    13.917000  ...   \n75%     493.204250   625.198250   613.078500   406.646750   161.198250  ...   \nmax    2397.488000  2987.201000  2916.440000  1765.077000   684.350000  ...   \n\n              9990         9991         9992         9993         9994  \\\ncount  1250.000000  1250.000000  1250.000000  1250.000000  1250.000000   \nmean     11.476222    33.046902    14.964225     1.617977     0.966285   \nstd     269.321713   545.254843   279.002383   484.089443   811.995519   \nmin    -754.360000 -2337.359000  -843.832000 -1660.371000 -3048.856000   \n25%    -178.323000  -326.482750  -177.293750  -334.303250  -533.827500   \n50%      12.929500    14.458000    18.659500     3.275500    -7.966500   \n75%     199.985000   381.024250   205.077500   335.198500   573.268250   \nmax    1093.874000  2010.261000   914.288000  1647.605000  2444.526000   \n\n              9995         9996         9997         9998         9999  \ncount  1250.000000  1250.000000  1250.000000  1250.000000  1250.000000  \nmean     27.937748    17.698405    -5.434074     2.335376    18.155565  \nstd     668.026761   205.254268   795.507890   618.042044   777.694783  \nmin   -1897.451000  -656.654000 -2452.794000 -2080.857000 -2991.225000  \n25%    -395.463000  -128.044750  -539.452750  -416.250500  -510.043500  \n50%      26.660500    25.876000    11.653000    -1.106000    26.721500  \n75%     465.582000   157.331750   548.572500   424.111750   554.481750  \nmax    2412.412000   610.140000  2354.781000  1989.205000  2157.461000  \n\n[8 rows x 10000 columns]\n",
     "output_type": "stream"
    }
   ],
   "execution_count": 23
  },
  {
   "cell_type": "code",
   "metadata": {
    "tags": [],
    "cell_id": "00008-05a566b6-9306-45a4-8234-db41bdbdd135",
    "deepnote_to_be_reexecuted": false,
    "source_hash": "405acf08",
    "execution_start": 1625053151499,
    "execution_millis": 0,
    "deepnote_cell_type": "code"
   },
   "source": "#Function for searching missing values\ndef missing_values_table(df):\n    mis_val = df.isnull().sum()\n    mis_val_percent = 100 * df.isnull().sum() / len(df)\n    mis_val_table = pd.concat([mis_val, mis_val_percent], axis=1)\n    mis_val_table_ren_columns = mis_val_table.rename(\n    columns = {0 : 'Missing Values', 1 : '% of Total Values'})\n    mis_val_table_ren_columns = mis_val_table_ren_columns[\n        mis_val_table_ren_columns.iloc[:,1] != 0].sort_values(\n    '% of Total Values', ascending=False).round(1)\n    print (\"Your selected dataframe has \" + str(df.shape[1]) + \" columns.\\n\"      \n        \"There are \" + str(mis_val_table_ren_columns.shape[0]) +\n            \" columns that have missing values.\")\n    return mis_val_table_ren_columns",
   "outputs": [],
   "execution_count": 17
  },
  {
   "cell_type": "code",
   "metadata": {
    "tags": [],
    "cell_id": "00008-400c117d-b363-486d-b72c-f19607090c6c",
    "deepnote_to_be_reexecuted": false,
    "source_hash": "5ad2419e",
    "execution_start": 1625053247523,
    "execution_millis": 325,
    "deepnote_cell_type": "code"
   },
   "source": "#Show missing values\nmissing_values_table(X)\nmissing_values_table(y)\nmissing_values_table(X_test_data)",
   "outputs": [
    {
     "name": "stdout",
     "text": "Your selected dataframe has 10000 columns.\nThere are 0 columns that have missing values.\nYour selected dataframe has 1 columns.\nThere are 0 columns that have missing values.\nYour selected dataframe has 10000 columns.\nThere are 0 columns that have missing values.\n",
     "output_type": "stream"
    },
    {
     "output_type": "execute_result",
     "execution_count": 22,
     "data": {
      "application/vnd.deepnote.dataframe.v2+json": {
       "row_count": 0,
       "column_count": 2,
       "columns": [
        {
         "name": "Missing Values",
         "dtype": "int64",
         "stats": {
          "unique_count": 0,
          "nan_count": 0,
          "min": null,
          "max": null,
          "histogram": [
           {
            "bin_start": 0,
            "bin_end": 0.1,
            "count": 0
           },
           {
            "bin_start": 0.1,
            "bin_end": 0.2,
            "count": 0
           },
           {
            "bin_start": 0.2,
            "bin_end": 0.30000000000000004,
            "count": 0
           },
           {
            "bin_start": 0.30000000000000004,
            "bin_end": 0.4,
            "count": 0
           },
           {
            "bin_start": 0.4,
            "bin_end": 0.5,
            "count": 0
           },
           {
            "bin_start": 0.5,
            "bin_end": 0.6000000000000001,
            "count": 0
           },
           {
            "bin_start": 0.6000000000000001,
            "bin_end": 0.7000000000000001,
            "count": 0
           },
           {
            "bin_start": 0.7000000000000001,
            "bin_end": 0.8,
            "count": 0
           },
           {
            "bin_start": 0.8,
            "bin_end": 0.9,
            "count": 0
           },
           {
            "bin_start": 0.9,
            "bin_end": 1,
            "count": 0
           }
          ]
         }
        },
        {
         "name": "% of Total Values",
         "dtype": "float64",
         "stats": {
          "unique_count": 0,
          "nan_count": 0,
          "min": null,
          "max": null,
          "histogram": [
           {
            "bin_start": 0,
            "bin_end": 0.1,
            "count": 0
           },
           {
            "bin_start": 0.1,
            "bin_end": 0.2,
            "count": 0
           },
           {
            "bin_start": 0.2,
            "bin_end": 0.30000000000000004,
            "count": 0
           },
           {
            "bin_start": 0.30000000000000004,
            "bin_end": 0.4,
            "count": 0
           },
           {
            "bin_start": 0.4,
            "bin_end": 0.5,
            "count": 0
           },
           {
            "bin_start": 0.5,
            "bin_end": 0.6000000000000001,
            "count": 0
           },
           {
            "bin_start": 0.6000000000000001,
            "bin_end": 0.7000000000000001,
            "count": 0
           },
           {
            "bin_start": 0.7000000000000001,
            "bin_end": 0.8,
            "count": 0
           },
           {
            "bin_start": 0.8,
            "bin_end": 0.9,
            "count": 0
           },
           {
            "bin_start": 0.9,
            "bin_end": 1,
            "count": 0
           }
          ]
         }
        },
        {
         "name": "_deepnote_index_column",
         "dtype": "int64"
        }
       ],
       "rows_top": [],
       "rows_bottom": null
      },
      "text/plain": "Empty DataFrame\nColumns: [Missing Values, % of Total Values]\nIndex: []",
      "text/html": "<div>\n<style scoped>\n    .dataframe tbody tr th:only-of-type {\n        vertical-align: middle;\n    }\n\n    .dataframe tbody tr th {\n        vertical-align: top;\n    }\n\n    .dataframe thead th {\n        text-align: right;\n    }\n</style>\n<table border=\"1\" class=\"dataframe\">\n  <thead>\n    <tr style=\"text-align: right;\">\n      <th></th>\n      <th>Missing Values</th>\n      <th>% of Total Values</th>\n    </tr>\n  </thead>\n  <tbody>\n  </tbody>\n</table>\n</div>"
     },
     "metadata": {}
    }
   ],
   "execution_count": 22
  },
  {
   "cell_type": "code",
   "source": "#Count skewness of training data and show histogram with this distribution\nskew_df = pd.DataFrame(X.skew())\nprint(skew_df.plot.hist())",
   "metadata": {
    "tags": [],
    "cell_id": "00007-08777df1-ddde-4235-9e64-61cad84a0243",
    "deepnote_to_be_reexecuted": false,
    "source_hash": "a96c719c",
    "execution_start": 1625055812364,
    "execution_millis": 815,
    "deepnote_cell_type": "code"
   },
   "outputs": [
    {
     "name": "stdout",
     "text": "AxesSubplot(0.125,0.125;0.775x0.755)\n",
     "output_type": "stream"
    },
    {
     "data": {
      "text/plain": "<Figure size 432x288 with 1 Axes>",
      "image/png": "[encoded data removed]"
     },
     "metadata": {
      "needs_background": "light",
      "image/png": {
       "width": 395,
       "height": 248
      }
     },
     "output_type": "display_data"
    }
   ],
   "execution_count": 48
  },
  {
   "cell_type": "code",
   "source": "#Count values of training labels\nprint('Values of training labels:', y.value_counts())",
   "metadata": {
    "tags": [],
    "cell_id": "00008-f02e63bb-3f2a-4c62-a8f9-26d30cc6c13c",
    "deepnote_to_be_reexecuted": false,
    "source_hash": "77ae2c97",
    "execution_start": 1625056694814,
    "execution_millis": 10,
    "deepnote_cell_type": "code"
   },
   "outputs": [
    {
     "name": "stdout",
     "text": "Values of training labels:  1    3375\n-1     375\ndtype: int64\n",
     "output_type": "stream"
    }
   ],
   "execution_count": 55
  },
  {
   "cell_type": "markdown",
   "source": "<a style='text-decoration:none;line-height:16px;display:flex;color:#5B5B62;padding:10px;justify-content:end;' href='https://deepnote.com?utm_source=created-in-deepnote-cell&projectId=ae6d556f-9829-4201-b0d0-4c143a3266cf' target=\"_blank\">\n<img alt='Created in deepnote.com' style='display:inline;max-height:16px;margin:0px;margin-right:7.5px;' src='data:image/svg+xml;base64,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' > </img>\nCreated in <span style='font-weight:600;margin-left:4px;'>Deepnote</span></a>",
   "metadata": {
    "tags": [],
    "created_in_deepnote_cell": true,
    "deepnote_cell_type": "markdown"
   }
  }
 ],
 "nbformat": 4,
 "nbformat_minor": 2,
 "metadata": {
  "orig_nbformat": 2,
  "deepnote": {
   "is_reactive": false
  },
  "deepnote_notebook_id": "75482180-cc09-4d48-835f-2470e3d619f9",
  "deepnote_execution_queue": []
 }
}