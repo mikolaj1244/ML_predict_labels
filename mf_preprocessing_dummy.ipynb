{
 "cells": [
  {
   "cell_type": "code",
   "source": "!pip install imblearn==0.0",
   "metadata": {
    "tags": [],
    "cell_id": "00000-f9cedaa6-7405-4fb4-bee0-3bddc5ac0e25",
    "deepnote_to_be_reexecuted": false,
    "source_hash": "8f793ab2",
    "execution_start": 1625071585885,
    "execution_millis": 4006,
    "deepnote_cell_type": "code"
   },
   "outputs": [
    {
     "name": "stdout",
     "text": "Collecting imblearn==0.0\n  Downloading imblearn-0.0-py2.py3-none-any.whl (1.9 kB)\nCollecting imbalanced-learn\n  Downloading imbalanced_learn-0.8.0-py3-none-any.whl (206 kB)\n\u001b[K     |████████████████████████████████| 206 kB 23.4 MB/s \n\u001b[?25hRequirement already satisfied: scikit-learn>=0.24 in /shared-libs/python3.7/py/lib/python3.7/site-packages (from imbalanced-learn->imblearn==0.0) (0.24.2)\nRequirement already satisfied: numpy>=1.13.3 in /shared-libs/python3.7/py/lib/python3.7/site-packages (from imbalanced-learn->imblearn==0.0) (1.19.5)\nRequirement already satisfied: joblib>=0.11 in /shared-libs/python3.7/py/lib/python3.7/site-packages (from imbalanced-learn->imblearn==0.0) (1.0.1)\nRequirement already satisfied: scipy>=0.19.1 in /shared-libs/python3.7/py/lib/python3.7/site-packages (from imbalanced-learn->imblearn==0.0) (1.6.3)\nRequirement already satisfied: threadpoolctl>=2.0.0 in /shared-libs/python3.7/py/lib/python3.7/site-packages (from scikit-learn>=0.24->imbalanced-learn->imblearn==0.0) (2.1.0)\nInstalling collected packages: imbalanced-learn, imblearn\nSuccessfully installed imbalanced-learn-0.8.0 imblearn-0.0\n\u001b[33mWARNING: You are using pip version 21.1.2; however, version 21.1.3 is available.\nYou should consider upgrading via the '/root/venv/bin/python -m pip install --upgrade pip' command.\u001b[0m\n",
     "output_type": "stream"
    }
   ],
   "execution_count": 2
  },
  {
   "cell_type": "code",
   "source": "!pip install hpsklearn==0.1.0",
   "metadata": {
    "tags": [],
    "cell_id": "00001-1f03e272-eff5-4130-a5e9-a3f70a793104",
    "deepnote_to_be_reexecuted": false,
    "source_hash": "d9c51c2c",
    "execution_start": 1625071612392,
    "execution_millis": 3555,
    "deepnote_cell_type": "code"
   },
   "outputs": [
    {
     "name": "stdout",
     "text": "Requirement already satisfied: hpsklearn==0.1.0 in /root/venv/lib/python3.7/site-packages (0.1.0)\nRequirement already satisfied: scipy in /shared-libs/python3.7/py/lib/python3.7/site-packages (from hpsklearn==0.1.0) (1.6.3)\nRequirement already satisfied: nose in /root/venv/lib/python3.7/site-packages (from hpsklearn==0.1.0) (1.3.7)\nRequirement already satisfied: hyperopt in /root/venv/lib/python3.7/site-packages (from hpsklearn==0.1.0) (0.2.5)\nRequirement already satisfied: numpy in /shared-libs/python3.7/py/lib/python3.7/site-packages (from hpsklearn==0.1.0) (1.19.5)\nRequirement already satisfied: scikit-learn in /shared-libs/python3.7/py/lib/python3.7/site-packages (from hpsklearn==0.1.0) (0.24.2)\nRequirement already satisfied: networkx>=2.2 in /root/venv/lib/python3.7/site-packages (from hyperopt->hpsklearn==0.1.0) (2.5.1)\nRequirement already satisfied: tqdm in /shared-libs/python3.7/py/lib/python3.7/site-packages (from hyperopt->hpsklearn==0.1.0) (4.61.1)\nRequirement already satisfied: six in /shared-libs/python3.7/py-core/lib/python3.7/site-packages (from hyperopt->hpsklearn==0.1.0) (1.16.0)\nRequirement already satisfied: future in /shared-libs/python3.7/py/lib/python3.7/site-packages (from hyperopt->hpsklearn==0.1.0) (0.18.2)\nRequirement already satisfied: cloudpickle in /root/venv/lib/python3.7/site-packages (from hyperopt->hpsklearn==0.1.0) (1.6.0)\nCollecting decorator<5,>=4.3\n  Using cached decorator-4.4.2-py2.py3-none-any.whl (9.2 kB)\nRequirement already satisfied: threadpoolctl>=2.0.0 in /shared-libs/python3.7/py/lib/python3.7/site-packages (from scikit-learn->hpsklearn==0.1.0) (2.1.0)\nRequirement already satisfied: joblib>=0.11 in /shared-libs/python3.7/py/lib/python3.7/site-packages (from scikit-learn->hpsklearn==0.1.0) (1.0.1)\nInstalling collected packages: decorator\n  Attempting uninstall: decorator\n    Found existing installation: decorator 5.0.9\n    Not uninstalling decorator at /shared-libs/python3.7/py-core/lib/python3.7/site-packages, outside environment /root/venv\n    Can't uninstall 'decorator'. No files were found to uninstall.\nSuccessfully installed decorator-4.4.2\n\u001b[33mWARNING: You are using pip version 21.1.2; however, version 21.1.3 is available.\nYou should consider upgrading via the '/root/venv/bin/python -m pip install --upgrade pip' command.\u001b[0m\n",
     "output_type": "stream"
    }
   ],
   "execution_count": 5
  },
  {
   "cell_type": "code",
   "metadata": {
    "tags": [],
    "cell_id": "00001-031dd1d1-122a-4a98-ba1d-df5d65588bcb",
    "deepnote_to_be_reexecuted": false,
    "source_hash": "4dcc7efd",
    "execution_start": 1625074588406,
    "execution_millis": 0,
    "deepnote_cell_type": "code"
   },
   "source": "import numpy as np\nimport pandas as pd\nimport seaborn as sns\nimport matplotlib.pyplot as plt\n\nfrom sklearn.preprocessing import MinMaxScaler\nfrom sklearn.decomposition import PCA\nfrom sklearn.model_selection import train_test_split\nfrom sklearn.pipeline import Pipeline\nfrom imblearn.over_sampling import RandomOverSampler\nfrom sklearn.dummy import DummyClassifier",
   "execution_count": 68,
   "outputs": []
  },
  {
   "cell_type": "code",
   "source": "#Load datasets\ndef load_data():\n    X_train_ = pd.read_csv('train_data.csv', header=None)\n    y_labels = pd.read_csv('train_labels.csv', header=None)\n    X_test_ = pd.read_csv('test_data.csv', header=None)\n    return[X_train_, y_labels, X_test_]\nX, y, X_test_data = load_data()",
   "metadata": {
    "tags": [],
    "cell_id": "00001-0075db7e-510b-41f3-bc47-20fe3ec5887c",
    "deepnote_to_be_reexecuted": false,
    "source_hash": "9d2ae35c",
    "execution_start": 1625074519988,
    "execution_millis": 68418,
    "deepnote_cell_type": "code"
   },
   "outputs": [],
   "execution_count": 67
  },
  {
   "cell_type": "code",
   "source": "def scale_data(df1, df2):\n    \n    scaler = MinMaxScaler()\n    X_scaled = scaler.fit_transform(df1)\n    X_test_scaled = scaler.fit_transform(df2)\n\n    return [X_scaled, X_test_scaled]",
   "metadata": {
    "tags": [],
    "cell_id": "00002-42cca9fa-fe2d-47af-956d-73efcfc27cc7",
    "deepnote_to_be_reexecuted": false,
    "source_hash": "5c6ed208",
    "execution_start": 1625074591454,
    "execution_millis": 8,
    "deepnote_cell_type": "code"
   },
   "outputs": [],
   "execution_count": 69
  },
  {
   "cell_type": "code",
   "source": "X_scaled, X_test_scaled = scale_data(X, X_test_data)",
   "metadata": {
    "tags": [],
    "cell_id": "00003-2d6ff93f-45e2-4465-8404-f5f1f49c067b",
    "deepnote_to_be_reexecuted": false,
    "source_hash": "cc75ab68",
    "execution_start": 1625074595486,
    "execution_millis": 1366,
    "deepnote_cell_type": "code"
   },
   "outputs": [],
   "execution_count": 70
  },
  {
   "cell_type": "code",
   "source": "def pca_data(df1: np.array, df2: np.array):\n    \n    \n    pca = PCA(n_components=0.95, random_state=42)\n    X_pca = pca.fit_transform(df1)\n    x_test_to_save = pca.fit_transform(df2)\n    \n    return [X_pca, x_test_to_save]",
   "metadata": {
    "tags": [],
    "cell_id": "00006-47a08c1c-36f3-4743-b2b7-0fc4720dafe6",
    "deepnote_to_be_reexecuted": false,
    "source_hash": "24485406",
    "execution_start": 1625074616010,
    "execution_millis": 1,
    "deepnote_cell_type": "code"
   },
   "outputs": [],
   "execution_count": 71
  },
  {
   "cell_type": "code",
   "source": "X_pca, x_test_to_save = pca_data(X_scaled, X_test_scaled)",
   "metadata": {
    "tags": [],
    "cell_id": "00007-16b86cfb-82b0-4836-a33d-d61a482ba9e9",
    "deepnote_to_be_reexecuted": false,
    "source_hash": "d404d7e2",
    "execution_start": 1625074617413,
    "execution_millis": 219818,
    "deepnote_cell_type": "code"
   },
   "outputs": [],
   "execution_count": 72
  },
  {
   "cell_type": "code",
   "source": "def data_sampling(df1: np.array, df2: np.array):\n    \n    over_sampler = RandomOverSampler(sampling_strategy=0.2)\n\n    x_to_save, y_to_save = over_sampler.fit_resample(df1, df2)\n    \n    return [x_to_save, y_to_save]",
   "metadata": {
    "tags": [],
    "cell_id": "00009-222ffab0-714d-4756-95d0-dbd36ccc147f",
    "deepnote_to_be_reexecuted": false,
    "source_hash": "eb76ec91",
    "execution_start": 1625073776291,
    "execution_millis": 4,
    "deepnote_cell_type": "code"
   },
   "outputs": [],
   "execution_count": 44
  },
  {
   "cell_type": "code",
   "source": "x_to_save, y_to_save = data_sampling(X_pca, y)",
   "metadata": {
    "tags": [],
    "cell_id": "00009-64e731e8-78fa-44f6-ae22-bc6c50f36c09",
    "deepnote_to_be_reexecuted": false,
    "source_hash": "64627737",
    "execution_start": 1625075079646,
    "execution_millis": 45,
    "deepnote_cell_type": "code"
   },
   "outputs": [],
   "execution_count": 73
  },
  {
   "cell_type": "code",
   "source": "def save_data(x_train, x_test, y_train):\n\n    np.save('model_x_train.csv', x_train)\n    np.save('model_x_test.csv', x_test)\n    np.save('model_y_train.csv', y_train)",
   "metadata": {
    "tags": [],
    "cell_id": "00010-2b9dbc96-ceac-4080-a139-780eed6e72ab",
    "deepnote_to_be_reexecuted": false,
    "source_hash": "aee19fcf",
    "execution_start": 1625075265413,
    "execution_millis": 7,
    "deepnote_cell_type": "code"
   },
   "outputs": [],
   "execution_count": 83
  },
  {
   "cell_type": "code",
   "source": "save_data(x_to_save, x_test_to_save, y_to_save)",
   "metadata": {
    "tags": [],
    "cell_id": "00011-d84ab997-7eff-439d-8144-31cca88d012c",
    "deepnote_to_be_reexecuted": false,
    "source_hash": "5c9bb6ce",
    "execution_start": 1625075266221,
    "execution_millis": 266,
    "deepnote_cell_type": "code"
   },
   "outputs": [],
   "execution_count": 84
  },
  {
   "cell_type": "code",
   "source": "X_train, X_test, y_train, y_test = train_test_split(X_pca, y, test_size=0.33, random_state=42)",
   "metadata": {
    "tags": [],
    "cell_id": "00010-598a0ef0-d4ce-4739-ac26-ef111b41b8a5",
    "deepnote_to_be_reexecuted": false,
    "source_hash": "b1f839b4",
    "execution_start": 1625075086582,
    "execution_millis": 139,
    "deepnote_cell_type": "code"
   },
   "outputs": [],
   "execution_count": 76
  },
  {
   "cell_type": "code",
   "source": "dummy_clf = DummyClassifier(strategy=\"stratified\")\ndummy_clf.fit(X_train, y_train)\nDummyClassifier(strategy='stratified')\ny_pred = dummy_clf.predict(X_test)\nprint(dummy_clf.score(X_test, y_pred))",
   "metadata": {
    "tags": [],
    "cell_id": "00011-c5150fae-190a-4e34-8e0b-c43dbe8c6eb1",
    "deepnote_to_be_reexecuted": false,
    "source_hash": "d98339e2",
    "execution_start": 1625075088092,
    "execution_millis": 19,
    "deepnote_cell_type": "code"
   },
   "outputs": [
    {
     "name": "stdout",
     "text": "0.8352180936995154\n",
     "output_type": "stream"
    }
   ],
   "execution_count": 77
  },
  {
   "cell_type": "code",
   "source": "",
   "metadata": {
    "tags": [],
    "cell_id": "00012-a0d68c17-9d8e-4923-8dcb-47eeffd4cd7a",
    "deepnote_cell_type": "code"
   },
   "outputs": [],
   "execution_count": null
  },
  {
   "cell_type": "markdown",
   "source": "<a style='text-decoration:none;line-height:16px;display:flex;color:#5B5B62;padding:10px;justify-content:end;' href='https://deepnote.com?utm_source=created-in-deepnote-cell&projectId=ae6d556f-9829-4201-b0d0-4c143a3266cf' target=\"_blank\">\n<img alt='Created in deepnote.com' style='display:inline;max-height:16px;margin:0px;margin-right:7.5px;' src='data:image/svg+xml;base64,PD94bWwgdmVyc2lvbj0iMS4wIiBlbmNvZGluZz0iVVRGLTgiPz4KPHN2ZyB3aWR0aD0iODBweCIgaGVpZ2h0PSI4MHB4IiB2aWV3Qm94PSIwIDAgODAgODAiIHZlcnNpb249IjEuMSIgeG1sbnM9Imh0dHA6Ly93d3cudzMub3JnLzIwMDAvc3ZnIiB4bWxuczp4bGluaz0iaHR0cDovL3d3dy53My5vcmcvMTk5OS94bGluayI+CiAgICA8IS0tIEdlbmVyYXRvcjogU2tldGNoIDU0LjEgKDc2NDkwKSAtIGh0dHBzOi8vc2tldGNoYXBwLmNvbSAtLT4KICAgIDx0aXRsZT5Hcm91cCAzPC90aXRsZT4KICAgIDxkZXNjPkNyZWF0ZWQgd2l0aCBTa2V0Y2guPC9kZXNjPgogICAgPGcgaWQ9IkxhbmRpbmciIHN0cm9rZT0ibm9uZSIgc3Ryb2tlLXdpZHRoPSIxIiBmaWxsPSJub25lIiBmaWxsLXJ1bGU9ImV2ZW5vZGQiPgogICAgICAgIDxnIGlkPSJBcnRib2FyZCIgdHJhbnNmb3JtPSJ0cmFuc2xhdGUoLTEyMzUuMDAwMDAwLCAtNzkuMDAwMDAwKSI+CiAgICAgICAgICAgIDxnIGlkPSJHcm91cC0zIiB0cmFuc2Zvcm09InRyYW5zbGF0ZSgxMjM1LjAwMDAwMCwgNzkuMDAwMDAwKSI+CiAgICAgICAgICAgICAgICA8cG9seWdvbiBpZD0iUGF0aC0yMCIgZmlsbD0iIzAyNjVCNCIgcG9pbnRzPSIyLjM3NjIzNzYyIDgwIDM4LjA0NzY2NjcgODAgNTcuODIxNzgyMiA3My44MDU3NTkyIDU3LjgyMTc4MjIgMzIuNzU5MjczOSAzOS4xNDAyMjc4IDMxLjY4MzE2ODMiPjwvcG9seWdvbj4KICAgICAgICAgICAgICAgIDxwYXRoIGQ9Ik0zNS4wMDc3MTgsODAgQzQyLjkwNjIwMDcsNzYuNDU0OTM1OCA0Ny41NjQ5MTY3LDcxLjU0MjI2NzEgNDguOTgzODY2LDY1LjI2MTk5MzkgQzUxLjExMjI4OTksNTUuODQxNTg0MiA0MS42NzcxNzk1LDQ5LjIxMjIyODQgMjUuNjIzOTg0Niw0OS4yMTIyMjg0IEMyNS40ODQ5Mjg5LDQ5LjEyNjg0NDggMjkuODI2MTI5Niw0My4yODM4MjQ4IDM4LjY0NzU4NjksMzEuNjgzMTY4MyBMNzIuODcxMjg3MSwzMi41NTQ0MjUgTDY1LjI4MDk3Myw2Ny42NzYzNDIxIEw1MS4xMTIyODk5LDc3LjM3NjE0NCBMMzUuMDA3NzE4LDgwIFoiIGlkPSJQYXRoLTIyIiBmaWxsPSIjMDAyODY4Ij48L3BhdGg+CiAgICAgICAgICAgICAgICA8cGF0aCBkPSJNMCwzNy43MzA0NDA1IEwyNy4xMTQ1MzcsMC4yNTcxMTE0MzYgQzYyLjM3MTUxMjMsLTEuOTkwNzE3MDEgODAsMTAuNTAwMzkyNyA4MCwzNy43MzA0NDA1IEM4MCw2NC45NjA0ODgyIDY0Ljc3NjUwMzgsNzkuMDUwMzQxNCAzNC4zMjk1MTEzLDgwIEM0Ny4wNTUzNDg5LDc3LjU2NzA4MDggNTMuNDE4MjY3Nyw3MC4zMTM2MTAzIDUzLjQxODI2NzcsNTguMjM5NTg4NSBDNTMuNDE4MjY3Nyw0MC4xMjg1NTU3IDM2LjMwMzk1NDQsMzcuNzMwNDQwNSAyNS4yMjc0MTcsMzcuNzMwNDQwNSBDMTcuODQzMDU4NiwzNy43MzA0NDA1IDkuNDMzOTE5NjYsMzcuNzMwNDQwNSAwLDM3LjczMDQ0MDUgWiIgaWQ9IlBhdGgtMTkiIGZpbGw9IiMzNzkzRUYiPjwvcGF0aD4KICAgICAgICAgICAgPC9nPgogICAgICAgIDwvZz4KICAgIDwvZz4KPC9zdmc+' > </img>\nCreated in <span style='font-weight:600;margin-left:4px;'>Deepnote</span></a>",
   "metadata": {
    "tags": [],
    "created_in_deepnote_cell": true,
    "deepnote_cell_type": "markdown"
   }
  }
 ],
 "nbformat": 4,
 "nbformat_minor": 2,
 "metadata": {
  "orig_nbformat": 2,
  "deepnote": {
   "is_reactive": false
  },
  "deepnote_notebook_id": "247c819c-18ba-40ac-a9dd-68a6793ec391",
  "deepnote_execution_queue": []
 }
}