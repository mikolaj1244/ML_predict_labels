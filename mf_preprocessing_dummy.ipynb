{
 "cells": [
  {
   "cell_type": "code",
   "metadata": {
    "tags": [],
    "deepnote_to_be_reexecuted": false,
    "source_hash": "22d26745",
    "execution_start": 1625096808613,
    "execution_millis": 4300,
    "cell_id": "00002-420ece7d-50f3-4d89-b632-e52d75b2706a",
    "deepnote_cell_type": "code"
   },
   "source": "import numpy as np\nimport pandas as pd\nimport seaborn as sns\nimport matplotlib.pyplot as plt\n\nfrom sklearn.preprocessing import MinMaxScaler\nfrom sklearn.decomposition import PCA\nfrom sklearn.model_selection import train_test_split\nfrom sklearn.pipeline import Pipeline\nfrom imblearn.over_sampling import RandomOverSampler\nfrom sklearn.dummy import DummyClassifier\nfrom imblearn.metrics import classification_report_imbalanced",
   "execution_count": 4,
   "outputs": []
  },
  {
   "cell_type": "code",
   "metadata": {
    "tags": [],
    "deepnote_to_be_reexecuted": false,
    "source_hash": "9d2ae35c",
    "execution_start": 1625096814666,
    "execution_millis": 60368,
    "cell_id": "00003-a8fea72b-bcf1-49b5-85b4-1830e19037ff",
    "deepnote_cell_type": "code"
   },
   "source": "#Load datasets\ndef load_data():\n    X_train_ = pd.read_csv('train_data.csv', header=None)\n    y_labels = pd.read_csv('train_labels.csv', header=None)\n    X_test_ = pd.read_csv('test_data.csv', header=None)\n    return[X_train_, y_labels, X_test_]\nX, y, X_test_data = load_data()",
   "execution_count": 5,
   "outputs": []
  },
  {
   "cell_type": "code",
   "metadata": {
    "tags": [],
    "deepnote_to_be_reexecuted": false,
    "source_hash": "5c6ed208",
    "execution_start": 1625096911704,
    "execution_millis": 497070,
    "cell_id": "00004-9d5144b9-a69a-47d9-af5b-af65f5b3b0a9",
    "deepnote_cell_type": "code"
   },
   "source": "#Function with MinMaxScaler for feature scaling\ndef scale_data(df1, df2):\n    \n    scaler = MinMaxScaler()\n    X_scaled = scaler.fit_transform(df1)\n    X_test_scaled = scaler.fit_transform(df2)\n\n    return [X_scaled, X_test_scaled]",
   "execution_count": 6,
   "outputs": []
  },
  {
   "cell_type": "code",
   "metadata": {
    "tags": [],
    "deepnote_to_be_reexecuted": false,
    "source_hash": "cc75ab68",
    "execution_start": 1625096912855,
    "execution_millis": 1117,
    "cell_id": "00005-da8ef314-0a4e-4361-828f-9f6860114e80",
    "deepnote_cell_type": "code"
   },
   "source": "#Run scaling features function\nX_scaled, X_test_scaled = scale_data(X, X_test_data)",
   "execution_count": 7,
   "outputs": []
  },
  {
   "cell_type": "code",
   "metadata": {
    "tags": [],
    "deepnote_to_be_reexecuted": false,
    "source_hash": "b3fca615",
    "execution_start": 1625096939482,
    "execution_millis": 2,
    "cell_id": "00006-7763b6c8-ca74-4d2a-9457-3c4bee30201a",
    "deepnote_cell_type": "code"
   },
   "source": "#Function with PCA\ndef pca_data(df1, df2):\n    \n    print('Dimension of training data before PCA:', X_scaled.shape)\n\n    pca = PCA(n_components=0.95, random_state=42)\n    X_pca = pca.fit_transform(df1)\n    x_test_to_save = pca.fit_transform(df2)\n\n    print('Dimension of training data after PCA:', X_pca.shape)\n    \n    return [X_pca, x_test_to_save]",
   "execution_count": 8,
   "outputs": []
  },
  {
   "cell_type": "code",
   "metadata": {
    "tags": [],
    "deepnote_to_be_reexecuted": false,
    "source_hash": "d404d7e2",
    "execution_start": 1625096941246,
    "execution_millis": 155045,
    "cell_id": "00007-bd055e1b-3e93-4429-aa32-f7d9a335f615",
    "deepnote_cell_type": "code"
   },
   "source": "#Run PCA and check dimension of data\nX_pca, x_test_to_save = pca_data(X_scaled, X_test_scaled)",
   "execution_count": 9,
   "outputs": [
    {
     "name": "stdout",
     "text": "Dimension of training data before PCA: (3750, 10000)\nDimension of training data after PCA: (3750, 3070)\n",
     "output_type": "stream"
    }
   ]
  },
  {
   "cell_type": "code",
   "metadata": {
    "tags": [],
    "deepnote_to_be_reexecuted": false,
    "source_hash": "199e6b25",
    "execution_start": 1625097106707,
    "execution_millis": 13,
    "cell_id": "00008-c9ff1020-c688-4e19-aa9a-87653b9ef9b0",
    "deepnote_cell_type": "code"
   },
   "source": "#Function for oversampling training data\ndef data_sampling(df1, df2):\n\n    print('Dimension of training data before sampling:', X_pca.shape)\n    print('Dimension of training labels before sampling:', y.shape)\n    \n    over_sampler = RandomOverSampler(sampling_strategy=0.2)\n\n    x_to_save, y_to_save = over_sampler.fit_resample(df1, df2)\n\n    print('Dimension of training data after sampling:', x_to_save.shape)\n    print('Dimension of training labels after sampling:', X_pca.shape)\n    \n    return [x_to_save, y_to_save]",
   "execution_count": 10,
   "outputs": []
  },
  {
   "cell_type": "code",
   "metadata": {
    "tags": [],
    "deepnote_to_be_reexecuted": false,
    "source_hash": "64627737",
    "execution_start": 1625097111481,
    "execution_millis": 123,
    "cell_id": "00009-65c32f7f-a65d-4d80-bbb7-b3c332178930",
    "deepnote_cell_type": "code"
   },
   "source": "#Run oversampling and check dimension of data\nx_to_save, y_to_save = data_sampling(X_pca, y)",
   "execution_count": 11,
   "outputs": [
    {
     "name": "stdout",
     "text": "Dimension of training data before sampling: (3750, 3070)\nDimension of training labels before sampling: (3750, 1)\nDimension of training data after sampling: (4050, 3070)\nDimension of training labels after sampling: (3750, 3070)\n",
     "output_type": "stream"
    }
   ]
  },
  {
   "cell_type": "code",
   "metadata": {
    "tags": [],
    "deepnote_to_be_reexecuted": false,
    "source_hash": "aee19fcf",
    "execution_start": 1625097121760,
    "execution_millis": 2,
    "cell_id": "00010-f7948ccf-9754-43dd-b4f4-ab1a451f173b",
    "deepnote_cell_type": "code"
   },
   "source": "#Function for saving numpy arrays\ndef save_data(x_train, x_test, y_train):\n\n    np.save('model_x_train', x_train)\n    np.save('model_x_test', x_test)\n    np.save('model_y_train', y_train)",
   "execution_count": 12,
   "outputs": []
  },
  {
   "cell_type": "code",
   "metadata": {
    "tags": [],
    "deepnote_to_be_reexecuted": false,
    "source_hash": "5c9bb6ce",
    "execution_start": 1625097125187,
    "execution_millis": 339,
    "cell_id": "00011-c20d0f73-bc64-4235-93ee-03af4f04be2a",
    "deepnote_cell_type": "code"
   },
   "source": "#Save preprocessed data\nsave_data(x_to_save, x_test_to_save, y_to_save)",
   "execution_count": 13,
   "outputs": []
  },
  {
   "cell_type": "code",
   "metadata": {
    "tags": [],
    "deepnote_to_be_reexecuted": false,
    "source_hash": "b1f839b4",
    "execution_start": 1625097126506,
    "execution_millis": 98,
    "cell_id": "00012-12f9802d-7b28-4429-a05b-5d8a9cbabbf5",
    "deepnote_cell_type": "code"
   },
   "source": "#Split training data\nX_train, X_test, y_train, y_test = train_test_split(X_pca, y, test_size=0.33, random_state=42)",
   "execution_count": 14,
   "outputs": []
  },
  {
   "cell_type": "code",
   "metadata": {
    "tags": [],
    "deepnote_to_be_reexecuted": false,
    "source_hash": "76f2a397",
    "execution_start": 1625097128621,
    "execution_millis": 37,
    "cell_id": "00013-f5e57ba7-43dd-4041-b408-5a7892b7cd32",
    "deepnote_cell_type": "code"
   },
   "source": "#Fit-predict with dummy classifier and print results with classification report\ndummy_clf = DummyClassifier(strategy=\"stratified\")\ndummy_clf.fit(X_train, y_train)\nDummyClassifier(strategy='stratified')\ny_pred = dummy_clf.predict(X_test)\nprint(classification_report_imbalanced(y_test, y_pred))",
   "execution_count": 15,
   "outputs": [
    {
     "name": "stdout",
     "text": "                   pre       rec       spe        f1       geo       iba       sup\n\n         -1       0.11      0.11      0.90      0.11      0.32      0.09       123\n          1       0.90      0.90      0.11      0.90      0.32      0.11      1115\n\navg / total       0.82      0.82      0.19      0.82      0.32      0.11      1238\n\n",
     "output_type": "stream"
    }
   ]
  },
  {
   "cell_type": "markdown",
   "source": "<a style='text-decoration:none;line-height:16px;display:flex;color:#5B5B62;padding:10px;justify-content:end;' href='https://deepnote.com?utm_source=created-in-deepnote-cell&projectId=ae6d556f-9829-4201-b0d0-4c143a3266cf' target=\"_blank\">\n<img alt='Created in deepnote.com' style='display:inline;max-height:16px;margin:0px;margin-right:7.5px;' src='data:image/svg+xml;base64,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' > </img>\nCreated in <span style='font-weight:600;margin-left:4px;'>Deepnote</span></a>",
   "metadata": {
    "tags": [],
    "created_in_deepnote_cell": true,
    "deepnote_cell_type": "markdown"
   }
  }
 ],
 "nbformat": 4,
 "nbformat_minor": 2,
 "metadata": {
  "orig_nbformat": 2,
  "deepnote": {
   "is_reactive": false
  },
  "deepnote_notebook_id": "07c68148-2d72-4acd-876a-8c2dc585cc4b",
  "deepnote_execution_queue": []
 }
}